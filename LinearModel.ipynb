{
  "nbformat": 4,
  "nbformat_minor": 0,
  "metadata": {
    "colab": {
      "name": "Gibbons_Brandon.ipynb",
      "provenance": [],
      "collapsed_sections": [
        "1svwMJ44P5xi"
      ],
      "toc_visible": true
    },
    "kernelspec": {
      "name": "python3",
      "display_name": "Python 3"
    },
    "language_info": {
      "name": "python"
    }
  },
  "cells": [
    {
      "cell_type": "markdown",
      "source": [
        "# **This jupyter notebook is prepared by Brandon Gibbons**"
      ],
      "metadata": {
        "id": "ETYZk5SUGpDv"
      }
    },
    {
      "cell_type": "markdown",
      "source": [
        "## **1. Load Data and perform general EDA**"
      ],
      "metadata": {
        "id": "iJs8Kxj-HB1R"
      }
    },
    {
      "cell_type": "markdown",
      "source": [
        "### I. import libraries: pandas, numpy, matplotlib (set %matplotlib inline), matplotlib’s pyplot, seaborn, missingno, scipy’s stats, sklearn (1 pt)"
      ],
      "metadata": {
        "id": "XYxk7xV2JS_S"
      }
    },
    {
      "cell_type": "code",
      "source": [
        "import pandas as pd\n",
        "import numpy as np\n",
        "import matplotlib as mpl\n",
        "import matplotlib.pyplot as plt\n",
        "%matplotlib inline\n",
        "import seaborn as sns\n",
        "import missingno as msno\n",
        "import scipy.stats as st\n",
        "from sklearn import ensemble, tree, linear_model\n",
        "from sklearn.model_selection import train_test_split"
      ],
      "metadata": {
        "id": "5P1VWGb2JGLf"
      },
      "execution_count": 686,
      "outputs": []
    },
    {
      "cell_type": "markdown",
      "source": [
        "### II.  import the data to a dataframe and show the count of rows and columns (1 pt)"
      ],
      "metadata": {
        "id": "4URKS86SJuR9"
      }
    },
    {
      "cell_type": "code",
      "source": [
        "data = pd.read_csv('/content/drive/MyDrive/Colab Notebooks/ecommarce.csv')\n",
        "data.shape"
      ],
      "metadata": {
        "colab": {
          "base_uri": "https://localhost:8080/"
        },
        "id": "70cPtMDmJ0qn",
        "outputId": "bc82c8fc-908d-410e-acca-53b173e4a350"
      },
      "execution_count": 687,
      "outputs": [
        {
          "output_type": "execute_result",
          "data": {
            "text/plain": [
              "(500, 9)"
            ]
          },
          "metadata": {},
          "execution_count": 687
        }
      ]
    },
    {
      "cell_type": "markdown",
      "source": [
        "### III. show the top 5 and last 5 rows (1 pt)"
      ],
      "metadata": {
        "id": "RkDD3ITTKjkT"
      }
    },
    {
      "cell_type": "code",
      "source": [
        "data.head()"
      ],
      "metadata": {
        "colab": {
          "base_uri": "https://localhost:8080/",
          "height": 354
        },
        "id": "AQfIOmNtK3WV",
        "outputId": "2b83d809-3213-4670-cda8-5425cebd5ac7"
      },
      "execution_count": 688,
      "outputs": [
        {
          "output_type": "execute_result",
          "data": {
            "text/plain": [
              "   Unnamed: 0         Email                                           Address  \\\n",
              "0           0  adkv@ota.com               89280 Mark Lane\\nNew John, MN 16131   \n",
              "1           1  gjun@syj.com  363 Amanda Cliff Apt. 638\\nWest Angela, KS 31437   \n",
              "2           2  qjyr@pkk.com           62008 Adam Lodge\\nLake Pamela, NY 30677   \n",
              "3           3  jkiu@xsb.com         950 Tami Island\\nLake Aimeeview, MT 93614   \n",
              "4           4  stvb@niy.com       08254 Kelly Squares\\nNorth Lauren, AR 78382   \n",
              "\n",
              "           Credit Card  Avg. Session Length  Time on App  Time on Website  \\\n",
              "0     3544288738428794            35.497268    13.655651        40.577668   \n",
              "1     6546228325389133            32.926272    12.109461        38.268959   \n",
              "2  4406395951712628314            34.000915    12.330278        38.110597   \n",
              "3       30334036663133            35.305557    14.717514        37.721283   \n",
              "4     3582080469154498            34.330673    13.795189        38.536653   \n",
              "\n",
              "   Length of Membership  Yearly Amount Spent  \n",
              "0              4.582621           588.951054  \n",
              "1              3.164034           393.204933  \n",
              "2              4.604543           488.547505  \n",
              "3              3.620179           582.852344  \n",
              "4              4.946308           600.406092  "
            ],
            "text/html": [
              "\n",
              "  <div id=\"df-d4c8a1b9-1beb-4af3-9a06-a479b7b09e95\">\n",
              "    <div class=\"colab-df-container\">\n",
              "      <div>\n",
              "<style scoped>\n",
              "    .dataframe tbody tr th:only-of-type {\n",
              "        vertical-align: middle;\n",
              "    }\n",
              "\n",
              "    .dataframe tbody tr th {\n",
              "        vertical-align: top;\n",
              "    }\n",
              "\n",
              "    .dataframe thead th {\n",
              "        text-align: right;\n",
              "    }\n",
              "</style>\n",
              "<table border=\"1\" class=\"dataframe\">\n",
              "  <thead>\n",
              "    <tr style=\"text-align: right;\">\n",
              "      <th></th>\n",
              "      <th>Unnamed: 0</th>\n",
              "      <th>Email</th>\n",
              "      <th>Address</th>\n",
              "      <th>Credit Card</th>\n",
              "      <th>Avg. Session Length</th>\n",
              "      <th>Time on App</th>\n",
              "      <th>Time on Website</th>\n",
              "      <th>Length of Membership</th>\n",
              "      <th>Yearly Amount Spent</th>\n",
              "    </tr>\n",
              "  </thead>\n",
              "  <tbody>\n",
              "    <tr>\n",
              "      <th>0</th>\n",
              "      <td>0</td>\n",
              "      <td>adkv@ota.com</td>\n",
              "      <td>89280 Mark Lane\\nNew John, MN 16131</td>\n",
              "      <td>3544288738428794</td>\n",
              "      <td>35.497268</td>\n",
              "      <td>13.655651</td>\n",
              "      <td>40.577668</td>\n",
              "      <td>4.582621</td>\n",
              "      <td>588.951054</td>\n",
              "    </tr>\n",
              "    <tr>\n",
              "      <th>1</th>\n",
              "      <td>1</td>\n",
              "      <td>gjun@syj.com</td>\n",
              "      <td>363 Amanda Cliff Apt. 638\\nWest Angela, KS 31437</td>\n",
              "      <td>6546228325389133</td>\n",
              "      <td>32.926272</td>\n",
              "      <td>12.109461</td>\n",
              "      <td>38.268959</td>\n",
              "      <td>3.164034</td>\n",
              "      <td>393.204933</td>\n",
              "    </tr>\n",
              "    <tr>\n",
              "      <th>2</th>\n",
              "      <td>2</td>\n",
              "      <td>qjyr@pkk.com</td>\n",
              "      <td>62008 Adam Lodge\\nLake Pamela, NY 30677</td>\n",
              "      <td>4406395951712628314</td>\n",
              "      <td>34.000915</td>\n",
              "      <td>12.330278</td>\n",
              "      <td>38.110597</td>\n",
              "      <td>4.604543</td>\n",
              "      <td>488.547505</td>\n",
              "    </tr>\n",
              "    <tr>\n",
              "      <th>3</th>\n",
              "      <td>3</td>\n",
              "      <td>jkiu@xsb.com</td>\n",
              "      <td>950 Tami Island\\nLake Aimeeview, MT 93614</td>\n",
              "      <td>30334036663133</td>\n",
              "      <td>35.305557</td>\n",
              "      <td>14.717514</td>\n",
              "      <td>37.721283</td>\n",
              "      <td>3.620179</td>\n",
              "      <td>582.852344</td>\n",
              "    </tr>\n",
              "    <tr>\n",
              "      <th>4</th>\n",
              "      <td>4</td>\n",
              "      <td>stvb@niy.com</td>\n",
              "      <td>08254 Kelly Squares\\nNorth Lauren, AR 78382</td>\n",
              "      <td>3582080469154498</td>\n",
              "      <td>34.330673</td>\n",
              "      <td>13.795189</td>\n",
              "      <td>38.536653</td>\n",
              "      <td>4.946308</td>\n",
              "      <td>600.406092</td>\n",
              "    </tr>\n",
              "  </tbody>\n",
              "</table>\n",
              "</div>\n",
              "      <button class=\"colab-df-convert\" onclick=\"convertToInteractive('df-d4c8a1b9-1beb-4af3-9a06-a479b7b09e95')\"\n",
              "              title=\"Convert this dataframe to an interactive table.\"\n",
              "              style=\"display:none;\">\n",
              "        \n",
              "  <svg xmlns=\"http://www.w3.org/2000/svg\" height=\"24px\"viewBox=\"0 0 24 24\"\n",
              "       width=\"24px\">\n",
              "    <path d=\"M0 0h24v24H0V0z\" fill=\"none\"/>\n",
              "    <path d=\"M18.56 5.44l.94 2.06.94-2.06 2.06-.94-2.06-.94-.94-2.06-.94 2.06-2.06.94zm-11 1L8.5 8.5l.94-2.06 2.06-.94-2.06-.94L8.5 2.5l-.94 2.06-2.06.94zm10 10l.94 2.06.94-2.06 2.06-.94-2.06-.94-.94-2.06-.94 2.06-2.06.94z\"/><path d=\"M17.41 7.96l-1.37-1.37c-.4-.4-.92-.59-1.43-.59-.52 0-1.04.2-1.43.59L10.3 9.45l-7.72 7.72c-.78.78-.78 2.05 0 2.83L4 21.41c.39.39.9.59 1.41.59.51 0 1.02-.2 1.41-.59l7.78-7.78 2.81-2.81c.8-.78.8-2.07 0-2.86zM5.41 20L4 18.59l7.72-7.72 1.47 1.35L5.41 20z\"/>\n",
              "  </svg>\n",
              "      </button>\n",
              "      \n",
              "  <style>\n",
              "    .colab-df-container {\n",
              "      display:flex;\n",
              "      flex-wrap:wrap;\n",
              "      gap: 12px;\n",
              "    }\n",
              "\n",
              "    .colab-df-convert {\n",
              "      background-color: #E8F0FE;\n",
              "      border: none;\n",
              "      border-radius: 50%;\n",
              "      cursor: pointer;\n",
              "      display: none;\n",
              "      fill: #1967D2;\n",
              "      height: 32px;\n",
              "      padding: 0 0 0 0;\n",
              "      width: 32px;\n",
              "    }\n",
              "\n",
              "    .colab-df-convert:hover {\n",
              "      background-color: #E2EBFA;\n",
              "      box-shadow: 0px 1px 2px rgba(60, 64, 67, 0.3), 0px 1px 3px 1px rgba(60, 64, 67, 0.15);\n",
              "      fill: #174EA6;\n",
              "    }\n",
              "\n",
              "    [theme=dark] .colab-df-convert {\n",
              "      background-color: #3B4455;\n",
              "      fill: #D2E3FC;\n",
              "    }\n",
              "\n",
              "    [theme=dark] .colab-df-convert:hover {\n",
              "      background-color: #434B5C;\n",
              "      box-shadow: 0px 1px 3px 1px rgba(0, 0, 0, 0.15);\n",
              "      filter: drop-shadow(0px 1px 2px rgba(0, 0, 0, 0.3));\n",
              "      fill: #FFFFFF;\n",
              "    }\n",
              "  </style>\n",
              "\n",
              "      <script>\n",
              "        const buttonEl =\n",
              "          document.querySelector('#df-d4c8a1b9-1beb-4af3-9a06-a479b7b09e95 button.colab-df-convert');\n",
              "        buttonEl.style.display =\n",
              "          google.colab.kernel.accessAllowed ? 'block' : 'none';\n",
              "\n",
              "        async function convertToInteractive(key) {\n",
              "          const element = document.querySelector('#df-d4c8a1b9-1beb-4af3-9a06-a479b7b09e95');\n",
              "          const dataTable =\n",
              "            await google.colab.kernel.invokeFunction('convertToInteractive',\n",
              "                                                     [key], {});\n",
              "          if (!dataTable) return;\n",
              "\n",
              "          const docLinkHtml = 'Like what you see? Visit the ' +\n",
              "            '<a target=\"_blank\" href=https://colab.research.google.com/notebooks/data_table.ipynb>data table notebook</a>'\n",
              "            + ' to learn more about interactive tables.';\n",
              "          element.innerHTML = '';\n",
              "          dataTable['output_type'] = 'display_data';\n",
              "          await google.colab.output.renderOutput(dataTable, element);\n",
              "          const docLink = document.createElement('div');\n",
              "          docLink.innerHTML = docLinkHtml;\n",
              "          element.appendChild(docLink);\n",
              "        }\n",
              "      </script>\n",
              "    </div>\n",
              "  </div>\n",
              "  "
            ]
          },
          "metadata": {},
          "execution_count": 688
        }
      ]
    },
    {
      "cell_type": "code",
      "source": [
        "data.tail()"
      ],
      "metadata": {
        "colab": {
          "base_uri": "https://localhost:8080/",
          "height": 354
        },
        "id": "w67-RQZiLJy5",
        "outputId": "389eb0bc-3664-433d-e0dd-2616410924a7"
      },
      "execution_count": 689,
      "outputs": [
        {
          "output_type": "execute_result",
          "data": {
            "text/plain": [
              "     Unnamed: 0         Email  \\\n",
              "495         495  xskz@gwj.com   \n",
              "496         496  awrc@iok.com   \n",
              "497         497  pndt@jyr.com   \n",
              "498         498  zvtz@onj.com   \n",
              "499         499  phqb@nlg.com   \n",
              "\n",
              "                                               Address          Credit Card  \\\n",
              "495            7083 Wallace Rest\\nNew Trevor, NM 70240       30206742023085   \n",
              "496  663 Christopher Garden\\nLake Carrieberg, PA 70796     6011536844623717   \n",
              "497            1555 Chen Road\\nBergerchester, NH 46418  4086276267550896697   \n",
              "498  5568 Robert Station Apt. 030\\nTurnerstad, GA 9...       36218092488069   \n",
              "499       424 Mark Junctions\\nDarrellchester, TX 09088     5427200269739116   \n",
              "\n",
              "     Avg. Session Length  Time on App  Time on Website  Length of Membership  \\\n",
              "495            34.237660    14.566160        37.417985              4.246573   \n",
              "496            35.702529    12.695736        38.190268              4.076526   \n",
              "497            33.646777    12.499409        39.332576              5.458264   \n",
              "498            34.322501    13.391423        37.840086              2.836485   \n",
              "499            34.715981    13.418808        36.771016              3.235160   \n",
              "\n",
              "     Yearly Amount Spent  \n",
              "495           574.847438  \n",
              "496           530.049004  \n",
              "497           552.620145  \n",
              "498           457.469510  \n",
              "499           498.778642  "
            ],
            "text/html": [
              "\n",
              "  <div id=\"df-b412e5ed-e3b6-425c-bb2b-c7d8bdfadc10\">\n",
              "    <div class=\"colab-df-container\">\n",
              "      <div>\n",
              "<style scoped>\n",
              "    .dataframe tbody tr th:only-of-type {\n",
              "        vertical-align: middle;\n",
              "    }\n",
              "\n",
              "    .dataframe tbody tr th {\n",
              "        vertical-align: top;\n",
              "    }\n",
              "\n",
              "    .dataframe thead th {\n",
              "        text-align: right;\n",
              "    }\n",
              "</style>\n",
              "<table border=\"1\" class=\"dataframe\">\n",
              "  <thead>\n",
              "    <tr style=\"text-align: right;\">\n",
              "      <th></th>\n",
              "      <th>Unnamed: 0</th>\n",
              "      <th>Email</th>\n",
              "      <th>Address</th>\n",
              "      <th>Credit Card</th>\n",
              "      <th>Avg. Session Length</th>\n",
              "      <th>Time on App</th>\n",
              "      <th>Time on Website</th>\n",
              "      <th>Length of Membership</th>\n",
              "      <th>Yearly Amount Spent</th>\n",
              "    </tr>\n",
              "  </thead>\n",
              "  <tbody>\n",
              "    <tr>\n",
              "      <th>495</th>\n",
              "      <td>495</td>\n",
              "      <td>xskz@gwj.com</td>\n",
              "      <td>7083 Wallace Rest\\nNew Trevor, NM 70240</td>\n",
              "      <td>30206742023085</td>\n",
              "      <td>34.237660</td>\n",
              "      <td>14.566160</td>\n",
              "      <td>37.417985</td>\n",
              "      <td>4.246573</td>\n",
              "      <td>574.847438</td>\n",
              "    </tr>\n",
              "    <tr>\n",
              "      <th>496</th>\n",
              "      <td>496</td>\n",
              "      <td>awrc@iok.com</td>\n",
              "      <td>663 Christopher Garden\\nLake Carrieberg, PA 70796</td>\n",
              "      <td>6011536844623717</td>\n",
              "      <td>35.702529</td>\n",
              "      <td>12.695736</td>\n",
              "      <td>38.190268</td>\n",
              "      <td>4.076526</td>\n",
              "      <td>530.049004</td>\n",
              "    </tr>\n",
              "    <tr>\n",
              "      <th>497</th>\n",
              "      <td>497</td>\n",
              "      <td>pndt@jyr.com</td>\n",
              "      <td>1555 Chen Road\\nBergerchester, NH 46418</td>\n",
              "      <td>4086276267550896697</td>\n",
              "      <td>33.646777</td>\n",
              "      <td>12.499409</td>\n",
              "      <td>39.332576</td>\n",
              "      <td>5.458264</td>\n",
              "      <td>552.620145</td>\n",
              "    </tr>\n",
              "    <tr>\n",
              "      <th>498</th>\n",
              "      <td>498</td>\n",
              "      <td>zvtz@onj.com</td>\n",
              "      <td>5568 Robert Station Apt. 030\\nTurnerstad, GA 9...</td>\n",
              "      <td>36218092488069</td>\n",
              "      <td>34.322501</td>\n",
              "      <td>13.391423</td>\n",
              "      <td>37.840086</td>\n",
              "      <td>2.836485</td>\n",
              "      <td>457.469510</td>\n",
              "    </tr>\n",
              "    <tr>\n",
              "      <th>499</th>\n",
              "      <td>499</td>\n",
              "      <td>phqb@nlg.com</td>\n",
              "      <td>424 Mark Junctions\\nDarrellchester, TX 09088</td>\n",
              "      <td>5427200269739116</td>\n",
              "      <td>34.715981</td>\n",
              "      <td>13.418808</td>\n",
              "      <td>36.771016</td>\n",
              "      <td>3.235160</td>\n",
              "      <td>498.778642</td>\n",
              "    </tr>\n",
              "  </tbody>\n",
              "</table>\n",
              "</div>\n",
              "      <button class=\"colab-df-convert\" onclick=\"convertToInteractive('df-b412e5ed-e3b6-425c-bb2b-c7d8bdfadc10')\"\n",
              "              title=\"Convert this dataframe to an interactive table.\"\n",
              "              style=\"display:none;\">\n",
              "        \n",
              "  <svg xmlns=\"http://www.w3.org/2000/svg\" height=\"24px\"viewBox=\"0 0 24 24\"\n",
              "       width=\"24px\">\n",
              "    <path d=\"M0 0h24v24H0V0z\" fill=\"none\"/>\n",
              "    <path d=\"M18.56 5.44l.94 2.06.94-2.06 2.06-.94-2.06-.94-.94-2.06-.94 2.06-2.06.94zm-11 1L8.5 8.5l.94-2.06 2.06-.94-2.06-.94L8.5 2.5l-.94 2.06-2.06.94zm10 10l.94 2.06.94-2.06 2.06-.94-2.06-.94-.94-2.06-.94 2.06-2.06.94z\"/><path d=\"M17.41 7.96l-1.37-1.37c-.4-.4-.92-.59-1.43-.59-.52 0-1.04.2-1.43.59L10.3 9.45l-7.72 7.72c-.78.78-.78 2.05 0 2.83L4 21.41c.39.39.9.59 1.41.59.51 0 1.02-.2 1.41-.59l7.78-7.78 2.81-2.81c.8-.78.8-2.07 0-2.86zM5.41 20L4 18.59l7.72-7.72 1.47 1.35L5.41 20z\"/>\n",
              "  </svg>\n",
              "      </button>\n",
              "      \n",
              "  <style>\n",
              "    .colab-df-container {\n",
              "      display:flex;\n",
              "      flex-wrap:wrap;\n",
              "      gap: 12px;\n",
              "    }\n",
              "\n",
              "    .colab-df-convert {\n",
              "      background-color: #E8F0FE;\n",
              "      border: none;\n",
              "      border-radius: 50%;\n",
              "      cursor: pointer;\n",
              "      display: none;\n",
              "      fill: #1967D2;\n",
              "      height: 32px;\n",
              "      padding: 0 0 0 0;\n",
              "      width: 32px;\n",
              "    }\n",
              "\n",
              "    .colab-df-convert:hover {\n",
              "      background-color: #E2EBFA;\n",
              "      box-shadow: 0px 1px 2px rgba(60, 64, 67, 0.3), 0px 1px 3px 1px rgba(60, 64, 67, 0.15);\n",
              "      fill: #174EA6;\n",
              "    }\n",
              "\n",
              "    [theme=dark] .colab-df-convert {\n",
              "      background-color: #3B4455;\n",
              "      fill: #D2E3FC;\n",
              "    }\n",
              "\n",
              "    [theme=dark] .colab-df-convert:hover {\n",
              "      background-color: #434B5C;\n",
              "      box-shadow: 0px 1px 3px 1px rgba(0, 0, 0, 0.15);\n",
              "      filter: drop-shadow(0px 1px 2px rgba(0, 0, 0, 0.3));\n",
              "      fill: #FFFFFF;\n",
              "    }\n",
              "  </style>\n",
              "\n",
              "      <script>\n",
              "        const buttonEl =\n",
              "          document.querySelector('#df-b412e5ed-e3b6-425c-bb2b-c7d8bdfadc10 button.colab-df-convert');\n",
              "        buttonEl.style.display =\n",
              "          google.colab.kernel.accessAllowed ? 'block' : 'none';\n",
              "\n",
              "        async function convertToInteractive(key) {\n",
              "          const element = document.querySelector('#df-b412e5ed-e3b6-425c-bb2b-c7d8bdfadc10');\n",
              "          const dataTable =\n",
              "            await google.colab.kernel.invokeFunction('convertToInteractive',\n",
              "                                                     [key], {});\n",
              "          if (!dataTable) return;\n",
              "\n",
              "          const docLinkHtml = 'Like what you see? Visit the ' +\n",
              "            '<a target=\"_blank\" href=https://colab.research.google.com/notebooks/data_table.ipynb>data table notebook</a>'\n",
              "            + ' to learn more about interactive tables.';\n",
              "          element.innerHTML = '';\n",
              "          dataTable['output_type'] = 'display_data';\n",
              "          await google.colab.output.renderOutput(dataTable, element);\n",
              "          const docLink = document.createElement('div');\n",
              "          docLink.innerHTML = docLinkHtml;\n",
              "          element.appendChild(docLink);\n",
              "        }\n",
              "      </script>\n",
              "    </div>\n",
              "  </div>\n",
              "  "
            ]
          },
          "metadata": {},
          "execution_count": 689
        }
      ]
    },
    {
      "cell_type": "markdown",
      "source": [
        "### IV.  call the describe method of dataframe to see some summary statistics of the numerical columns. (1 pt)"
      ],
      "metadata": {
        "id": "n4B3OHxpLS2E"
      }
    },
    {
      "cell_type": "code",
      "source": [
        "data.describe()"
      ],
      "metadata": {
        "colab": {
          "base_uri": "https://localhost:8080/",
          "height": 300
        },
        "id": "fSlGpniFLeB0",
        "outputId": "2a16f767-8a07-4bfb-feba-650134c71cbd"
      },
      "execution_count": 690,
      "outputs": [
        {
          "output_type": "execute_result",
          "data": {
            "text/plain": [
              "       Unnamed: 0   Credit Card  Avg. Session Length  Time on App  \\\n",
              "count  500.000000  5.000000e+02           500.000000   500.000000   \n",
              "mean   249.500000  3.706324e+17            34.053194    13.052488   \n",
              "std    144.481833  1.235588e+18             0.992563     0.994216   \n",
              "min      0.000000  5.018057e+11            30.532429     9.508152   \n",
              "25%    124.750000  3.683275e+13            33.341822    12.388153   \n",
              "50%    249.500000  3.513612e+15            34.082008    12.983231   \n",
              "75%    374.250000  4.777131e+15            34.711985    13.753850   \n",
              "max    499.000000  4.959148e+18            37.139662    16.126994   \n",
              "\n",
              "       Time on Website  Length of Membership  Yearly Amount Spent  \n",
              "count       500.000000            500.000000           500.000000  \n",
              "mean         38.060445              4.033462           500.314038  \n",
              "std           1.010489              0.999278            79.314782  \n",
              "min          34.913847              0.769901           257.670582  \n",
              "25%          37.349257              3.430450           446.038277  \n",
              "50%          38.069367              4.033975           499.887875  \n",
              "75%          38.716432              4.626502           550.313828  \n",
              "max          41.005182              7.422689           766.518462  "
            ],
            "text/html": [
              "\n",
              "  <div id=\"df-b2382aa9-1a1a-4247-80b3-8004c086f5b9\">\n",
              "    <div class=\"colab-df-container\">\n",
              "      <div>\n",
              "<style scoped>\n",
              "    .dataframe tbody tr th:only-of-type {\n",
              "        vertical-align: middle;\n",
              "    }\n",
              "\n",
              "    .dataframe tbody tr th {\n",
              "        vertical-align: top;\n",
              "    }\n",
              "\n",
              "    .dataframe thead th {\n",
              "        text-align: right;\n",
              "    }\n",
              "</style>\n",
              "<table border=\"1\" class=\"dataframe\">\n",
              "  <thead>\n",
              "    <tr style=\"text-align: right;\">\n",
              "      <th></th>\n",
              "      <th>Unnamed: 0</th>\n",
              "      <th>Credit Card</th>\n",
              "      <th>Avg. Session Length</th>\n",
              "      <th>Time on App</th>\n",
              "      <th>Time on Website</th>\n",
              "      <th>Length of Membership</th>\n",
              "      <th>Yearly Amount Spent</th>\n",
              "    </tr>\n",
              "  </thead>\n",
              "  <tbody>\n",
              "    <tr>\n",
              "      <th>count</th>\n",
              "      <td>500.000000</td>\n",
              "      <td>5.000000e+02</td>\n",
              "      <td>500.000000</td>\n",
              "      <td>500.000000</td>\n",
              "      <td>500.000000</td>\n",
              "      <td>500.000000</td>\n",
              "      <td>500.000000</td>\n",
              "    </tr>\n",
              "    <tr>\n",
              "      <th>mean</th>\n",
              "      <td>249.500000</td>\n",
              "      <td>3.706324e+17</td>\n",
              "      <td>34.053194</td>\n",
              "      <td>13.052488</td>\n",
              "      <td>38.060445</td>\n",
              "      <td>4.033462</td>\n",
              "      <td>500.314038</td>\n",
              "    </tr>\n",
              "    <tr>\n",
              "      <th>std</th>\n",
              "      <td>144.481833</td>\n",
              "      <td>1.235588e+18</td>\n",
              "      <td>0.992563</td>\n",
              "      <td>0.994216</td>\n",
              "      <td>1.010489</td>\n",
              "      <td>0.999278</td>\n",
              "      <td>79.314782</td>\n",
              "    </tr>\n",
              "    <tr>\n",
              "      <th>min</th>\n",
              "      <td>0.000000</td>\n",
              "      <td>5.018057e+11</td>\n",
              "      <td>30.532429</td>\n",
              "      <td>9.508152</td>\n",
              "      <td>34.913847</td>\n",
              "      <td>0.769901</td>\n",
              "      <td>257.670582</td>\n",
              "    </tr>\n",
              "    <tr>\n",
              "      <th>25%</th>\n",
              "      <td>124.750000</td>\n",
              "      <td>3.683275e+13</td>\n",
              "      <td>33.341822</td>\n",
              "      <td>12.388153</td>\n",
              "      <td>37.349257</td>\n",
              "      <td>3.430450</td>\n",
              "      <td>446.038277</td>\n",
              "    </tr>\n",
              "    <tr>\n",
              "      <th>50%</th>\n",
              "      <td>249.500000</td>\n",
              "      <td>3.513612e+15</td>\n",
              "      <td>34.082008</td>\n",
              "      <td>12.983231</td>\n",
              "      <td>38.069367</td>\n",
              "      <td>4.033975</td>\n",
              "      <td>499.887875</td>\n",
              "    </tr>\n",
              "    <tr>\n",
              "      <th>75%</th>\n",
              "      <td>374.250000</td>\n",
              "      <td>4.777131e+15</td>\n",
              "      <td>34.711985</td>\n",
              "      <td>13.753850</td>\n",
              "      <td>38.716432</td>\n",
              "      <td>4.626502</td>\n",
              "      <td>550.313828</td>\n",
              "    </tr>\n",
              "    <tr>\n",
              "      <th>max</th>\n",
              "      <td>499.000000</td>\n",
              "      <td>4.959148e+18</td>\n",
              "      <td>37.139662</td>\n",
              "      <td>16.126994</td>\n",
              "      <td>41.005182</td>\n",
              "      <td>7.422689</td>\n",
              "      <td>766.518462</td>\n",
              "    </tr>\n",
              "  </tbody>\n",
              "</table>\n",
              "</div>\n",
              "      <button class=\"colab-df-convert\" onclick=\"convertToInteractive('df-b2382aa9-1a1a-4247-80b3-8004c086f5b9')\"\n",
              "              title=\"Convert this dataframe to an interactive table.\"\n",
              "              style=\"display:none;\">\n",
              "        \n",
              "  <svg xmlns=\"http://www.w3.org/2000/svg\" height=\"24px\"viewBox=\"0 0 24 24\"\n",
              "       width=\"24px\">\n",
              "    <path d=\"M0 0h24v24H0V0z\" fill=\"none\"/>\n",
              "    <path d=\"M18.56 5.44l.94 2.06.94-2.06 2.06-.94-2.06-.94-.94-2.06-.94 2.06-2.06.94zm-11 1L8.5 8.5l.94-2.06 2.06-.94-2.06-.94L8.5 2.5l-.94 2.06-2.06.94zm10 10l.94 2.06.94-2.06 2.06-.94-2.06-.94-.94-2.06-.94 2.06-2.06.94z\"/><path d=\"M17.41 7.96l-1.37-1.37c-.4-.4-.92-.59-1.43-.59-.52 0-1.04.2-1.43.59L10.3 9.45l-7.72 7.72c-.78.78-.78 2.05 0 2.83L4 21.41c.39.39.9.59 1.41.59.51 0 1.02-.2 1.41-.59l7.78-7.78 2.81-2.81c.8-.78.8-2.07 0-2.86zM5.41 20L4 18.59l7.72-7.72 1.47 1.35L5.41 20z\"/>\n",
              "  </svg>\n",
              "      </button>\n",
              "      \n",
              "  <style>\n",
              "    .colab-df-container {\n",
              "      display:flex;\n",
              "      flex-wrap:wrap;\n",
              "      gap: 12px;\n",
              "    }\n",
              "\n",
              "    .colab-df-convert {\n",
              "      background-color: #E8F0FE;\n",
              "      border: none;\n",
              "      border-radius: 50%;\n",
              "      cursor: pointer;\n",
              "      display: none;\n",
              "      fill: #1967D2;\n",
              "      height: 32px;\n",
              "      padding: 0 0 0 0;\n",
              "      width: 32px;\n",
              "    }\n",
              "\n",
              "    .colab-df-convert:hover {\n",
              "      background-color: #E2EBFA;\n",
              "      box-shadow: 0px 1px 2px rgba(60, 64, 67, 0.3), 0px 1px 3px 1px rgba(60, 64, 67, 0.15);\n",
              "      fill: #174EA6;\n",
              "    }\n",
              "\n",
              "    [theme=dark] .colab-df-convert {\n",
              "      background-color: #3B4455;\n",
              "      fill: #D2E3FC;\n",
              "    }\n",
              "\n",
              "    [theme=dark] .colab-df-convert:hover {\n",
              "      background-color: #434B5C;\n",
              "      box-shadow: 0px 1px 3px 1px rgba(0, 0, 0, 0.15);\n",
              "      filter: drop-shadow(0px 1px 2px rgba(0, 0, 0, 0.3));\n",
              "      fill: #FFFFFF;\n",
              "    }\n",
              "  </style>\n",
              "\n",
              "      <script>\n",
              "        const buttonEl =\n",
              "          document.querySelector('#df-b2382aa9-1a1a-4247-80b3-8004c086f5b9 button.colab-df-convert');\n",
              "        buttonEl.style.display =\n",
              "          google.colab.kernel.accessAllowed ? 'block' : 'none';\n",
              "\n",
              "        async function convertToInteractive(key) {\n",
              "          const element = document.querySelector('#df-b2382aa9-1a1a-4247-80b3-8004c086f5b9');\n",
              "          const dataTable =\n",
              "            await google.colab.kernel.invokeFunction('convertToInteractive',\n",
              "                                                     [key], {});\n",
              "          if (!dataTable) return;\n",
              "\n",
              "          const docLinkHtml = 'Like what you see? Visit the ' +\n",
              "            '<a target=\"_blank\" href=https://colab.research.google.com/notebooks/data_table.ipynb>data table notebook</a>'\n",
              "            + ' to learn more about interactive tables.';\n",
              "          element.innerHTML = '';\n",
              "          dataTable['output_type'] = 'display_data';\n",
              "          await google.colab.output.renderOutput(dataTable, element);\n",
              "          const docLink = document.createElement('div');\n",
              "          docLink.innerHTML = docLinkHtml;\n",
              "          element.appendChild(docLink);\n",
              "        }\n",
              "      </script>\n",
              "    </div>\n",
              "  </div>\n",
              "  "
            ]
          },
          "metadata": {},
          "execution_count": 690
        }
      ]
    },
    {
      "cell_type": "markdown",
      "source": [
        "**a. Explain in words about the description of any two variables (1 pt)**"
      ],
      "metadata": {
        "id": "IN7Ui06ELmXv"
      }
    },
    {
      "cell_type": "markdown",
      "source": [
        "**Time on App:** This is a floating point number that stores the average amount of time the user spends on the app (in minutes).\n",
        "\n",
        "**Length of Membership:** This stores a floating point number that represents how many years the customer has been a member."
      ],
      "metadata": {
        "id": "_B6uDlcCLtT8"
      }
    },
    {
      "cell_type": "markdown",
      "source": [
        "### V. show any missing value analysis  (1 pt)"
      ],
      "metadata": {
        "id": "2iei5bVmM6Hi"
      }
    },
    {
      "cell_type": "markdown",
      "source": [
        "**a. Column wise count of missing values, descending order.**\n",
        "\n",
        "Since all columns have no missing or null values, there is no need to investigate bar plots/heat maps. "
      ],
      "metadata": {
        "id": "O1YVqBetNKgp"
      }
    },
    {
      "cell_type": "code",
      "source": [
        "percentage = data.isnull().mean()\n",
        "percentage = percentage.to_frame('nulls')\n",
        "percentage.sort_values('nulls', inplace=True, ascending=False)\n",
        "percentage"
      ],
      "metadata": {
        "colab": {
          "base_uri": "https://localhost:8080/",
          "height": 331
        },
        "id": "4PPW5wyONTzs",
        "outputId": "8ba95747-2515-466d-8381-f72657af9f00"
      },
      "execution_count": 691,
      "outputs": [
        {
          "output_type": "execute_result",
          "data": {
            "text/plain": [
              "                      nulls\n",
              "Unnamed: 0              0.0\n",
              "Email                   0.0\n",
              "Address                 0.0\n",
              "Credit Card             0.0\n",
              "Avg. Session Length     0.0\n",
              "Time on App             0.0\n",
              "Time on Website         0.0\n",
              "Length of Membership    0.0\n",
              "Yearly Amount Spent     0.0"
            ],
            "text/html": [
              "\n",
              "  <div id=\"df-4343dd2d-3649-45fa-bf89-d96ebd51b5d2\">\n",
              "    <div class=\"colab-df-container\">\n",
              "      <div>\n",
              "<style scoped>\n",
              "    .dataframe tbody tr th:only-of-type {\n",
              "        vertical-align: middle;\n",
              "    }\n",
              "\n",
              "    .dataframe tbody tr th {\n",
              "        vertical-align: top;\n",
              "    }\n",
              "\n",
              "    .dataframe thead th {\n",
              "        text-align: right;\n",
              "    }\n",
              "</style>\n",
              "<table border=\"1\" class=\"dataframe\">\n",
              "  <thead>\n",
              "    <tr style=\"text-align: right;\">\n",
              "      <th></th>\n",
              "      <th>nulls</th>\n",
              "    </tr>\n",
              "  </thead>\n",
              "  <tbody>\n",
              "    <tr>\n",
              "      <th>Unnamed: 0</th>\n",
              "      <td>0.0</td>\n",
              "    </tr>\n",
              "    <tr>\n",
              "      <th>Email</th>\n",
              "      <td>0.0</td>\n",
              "    </tr>\n",
              "    <tr>\n",
              "      <th>Address</th>\n",
              "      <td>0.0</td>\n",
              "    </tr>\n",
              "    <tr>\n",
              "      <th>Credit Card</th>\n",
              "      <td>0.0</td>\n",
              "    </tr>\n",
              "    <tr>\n",
              "      <th>Avg. Session Length</th>\n",
              "      <td>0.0</td>\n",
              "    </tr>\n",
              "    <tr>\n",
              "      <th>Time on App</th>\n",
              "      <td>0.0</td>\n",
              "    </tr>\n",
              "    <tr>\n",
              "      <th>Time on Website</th>\n",
              "      <td>0.0</td>\n",
              "    </tr>\n",
              "    <tr>\n",
              "      <th>Length of Membership</th>\n",
              "      <td>0.0</td>\n",
              "    </tr>\n",
              "    <tr>\n",
              "      <th>Yearly Amount Spent</th>\n",
              "      <td>0.0</td>\n",
              "    </tr>\n",
              "  </tbody>\n",
              "</table>\n",
              "</div>\n",
              "      <button class=\"colab-df-convert\" onclick=\"convertToInteractive('df-4343dd2d-3649-45fa-bf89-d96ebd51b5d2')\"\n",
              "              title=\"Convert this dataframe to an interactive table.\"\n",
              "              style=\"display:none;\">\n",
              "        \n",
              "  <svg xmlns=\"http://www.w3.org/2000/svg\" height=\"24px\"viewBox=\"0 0 24 24\"\n",
              "       width=\"24px\">\n",
              "    <path d=\"M0 0h24v24H0V0z\" fill=\"none\"/>\n",
              "    <path d=\"M18.56 5.44l.94 2.06.94-2.06 2.06-.94-2.06-.94-.94-2.06-.94 2.06-2.06.94zm-11 1L8.5 8.5l.94-2.06 2.06-.94-2.06-.94L8.5 2.5l-.94 2.06-2.06.94zm10 10l.94 2.06.94-2.06 2.06-.94-2.06-.94-.94-2.06-.94 2.06-2.06.94z\"/><path d=\"M17.41 7.96l-1.37-1.37c-.4-.4-.92-.59-1.43-.59-.52 0-1.04.2-1.43.59L10.3 9.45l-7.72 7.72c-.78.78-.78 2.05 0 2.83L4 21.41c.39.39.9.59 1.41.59.51 0 1.02-.2 1.41-.59l7.78-7.78 2.81-2.81c.8-.78.8-2.07 0-2.86zM5.41 20L4 18.59l7.72-7.72 1.47 1.35L5.41 20z\"/>\n",
              "  </svg>\n",
              "      </button>\n",
              "      \n",
              "  <style>\n",
              "    .colab-df-container {\n",
              "      display:flex;\n",
              "      flex-wrap:wrap;\n",
              "      gap: 12px;\n",
              "    }\n",
              "\n",
              "    .colab-df-convert {\n",
              "      background-color: #E8F0FE;\n",
              "      border: none;\n",
              "      border-radius: 50%;\n",
              "      cursor: pointer;\n",
              "      display: none;\n",
              "      fill: #1967D2;\n",
              "      height: 32px;\n",
              "      padding: 0 0 0 0;\n",
              "      width: 32px;\n",
              "    }\n",
              "\n",
              "    .colab-df-convert:hover {\n",
              "      background-color: #E2EBFA;\n",
              "      box-shadow: 0px 1px 2px rgba(60, 64, 67, 0.3), 0px 1px 3px 1px rgba(60, 64, 67, 0.15);\n",
              "      fill: #174EA6;\n",
              "    }\n",
              "\n",
              "    [theme=dark] .colab-df-convert {\n",
              "      background-color: #3B4455;\n",
              "      fill: #D2E3FC;\n",
              "    }\n",
              "\n",
              "    [theme=dark] .colab-df-convert:hover {\n",
              "      background-color: #434B5C;\n",
              "      box-shadow: 0px 1px 3px 1px rgba(0, 0, 0, 0.15);\n",
              "      filter: drop-shadow(0px 1px 2px rgba(0, 0, 0, 0.3));\n",
              "      fill: #FFFFFF;\n",
              "    }\n",
              "  </style>\n",
              "\n",
              "      <script>\n",
              "        const buttonEl =\n",
              "          document.querySelector('#df-4343dd2d-3649-45fa-bf89-d96ebd51b5d2 button.colab-df-convert');\n",
              "        buttonEl.style.display =\n",
              "          google.colab.kernel.accessAllowed ? 'block' : 'none';\n",
              "\n",
              "        async function convertToInteractive(key) {\n",
              "          const element = document.querySelector('#df-4343dd2d-3649-45fa-bf89-d96ebd51b5d2');\n",
              "          const dataTable =\n",
              "            await google.colab.kernel.invokeFunction('convertToInteractive',\n",
              "                                                     [key], {});\n",
              "          if (!dataTable) return;\n",
              "\n",
              "          const docLinkHtml = 'Like what you see? Visit the ' +\n",
              "            '<a target=\"_blank\" href=https://colab.research.google.com/notebooks/data_table.ipynb>data table notebook</a>'\n",
              "            + ' to learn more about interactive tables.';\n",
              "          element.innerHTML = '';\n",
              "          dataTable['output_type'] = 'display_data';\n",
              "          await google.colab.output.renderOutput(dataTable, element);\n",
              "          const docLink = document.createElement('div');\n",
              "          docLink.innerHTML = docLinkHtml;\n",
              "          element.appendChild(docLink);\n",
              "        }\n",
              "      </script>\n",
              "    </div>\n",
              "  </div>\n",
              "  "
            ]
          },
          "metadata": {},
          "execution_count": 691
        }
      ]
    },
    {
      "cell_type": "markdown",
      "source": [
        "### VI. Plot various scatter plots to understand the data:"
      ],
      "metadata": {
        "id": "wA9VJRYROA9B"
      }
    },
    {
      "cell_type": "markdown",
      "source": [
        "**a. Yearly amount Spent vs Time on Website**"
      ],
      "metadata": {
        "id": "Pc5N6v4jOG5r"
      }
    },
    {
      "cell_type": "code",
      "source": [
        "fig, ax = plt.subplots()\n",
        "ax.scatter(data['Yearly Amount Spent'],  data['Time on Website'])\n",
        "\n",
        "ax.set_xlabel('Yearly Amount')\n",
        "ax.set_ylabel('Website Time')\n",
        "\n",
        "plt.show()"
      ],
      "metadata": {
        "colab": {
          "base_uri": "https://localhost:8080/",
          "height": 279
        },
        "id": "LtnIbR_pQUNy",
        "outputId": "020e73f3-6e47-4bda-e31b-20b8cd8d7598"
      },
      "execution_count": 692,
      "outputs": [
        {
          "output_type": "display_data",
          "data": {
            "text/plain": [
              "<Figure size 432x288 with 1 Axes>"
            ],
            "image/png": "[encoded data removed]"
          },
          "metadata": {
            "needs_background": "light"
          }
        }
      ]
    },
    {
      "cell_type": "markdown",
      "source": [
        "----"
      ],
      "metadata": {
        "id": "-BqMdFT9V-Us"
      }
    },
    {
      "cell_type": "markdown",
      "source": [
        "**b. Yearly amount Spent vs Time on App**"
      ],
      "metadata": {
        "id": "sBgBQvRbQzPU"
      }
    },
    {
      "cell_type": "code",
      "source": [
        "fig, ax = plt.subplots()\n",
        "ax.scatter(data['Yearly Amount Spent'],  data['Time on App'])\n",
        "\n",
        "ax.set_xlabel('Yearly Amount')\n",
        "ax.set_ylabel('App Time')\n",
        "\n",
        "plt.show()"
      ],
      "metadata": {
        "colab": {
          "base_uri": "https://localhost:8080/",
          "height": 279
        },
        "id": "-u-SaD5MQ4Fi",
        "outputId": "ff843270-34a2-4942-b402-82fd9bd6ace5"
      },
      "execution_count": 693,
      "outputs": [
        {
          "output_type": "display_data",
          "data": {
            "text/plain": [
              "<Figure size 432x288 with 1 Axes>"
            ],
            "image/png": "[encoded data removed]"
          },
          "metadata": {
            "needs_background": "light"
          }
        }
      ]
    },
    {
      "cell_type": "markdown",
      "source": [
        "----"
      ],
      "metadata": {
        "id": "6h0JfSg3V8JK"
      }
    },
    {
      "cell_type": "markdown",
      "source": [
        "**c. Length of membership vs Time on App**"
      ],
      "metadata": {
        "id": "mdTE8WU2RR2E"
      }
    },
    {
      "cell_type": "code",
      "source": [
        "fig, ax = plt.subplots()\n",
        "ax.scatter(data['Length of Membership'],  data['Time on App'])\n",
        "\n",
        "ax.set_xlabel('Membership Length')\n",
        "ax.set_ylabel('App Time')\n",
        "\n",
        "plt.show()"
      ],
      "metadata": {
        "colab": {
          "base_uri": "https://localhost:8080/",
          "height": 279
        },
        "id": "Dvcdj5JrRWDc",
        "outputId": "7d3df29d-1399-4bc9-a00c-01d8d82ba86f"
      },
      "execution_count": 694,
      "outputs": [
        {
          "output_type": "display_data",
          "data": {
            "text/plain": [
              "<Figure size 432x288 with 1 Axes>"
            ],
            "image/png": "[encoded data removed]"
          },
          "metadata": {
            "needs_background": "light"
          }
        }
      ]
    },
    {
      "cell_type": "markdown",
      "source": [
        "----"
      ],
      "metadata": {
        "id": "1tsSLf2_V6Sz"
      }
    },
    {
      "cell_type": "markdown",
      "source": [
        "**d. Generate sns pairplot. Based on the plots, what feature is mostly correlated with the yearly amount spent?**\n",
        "\n",
        "It appears that the 'Length of Membership' feature is the most positively correlated with the 'Yearly Amount Spent' feature. "
      ],
      "metadata": {
        "id": "uOWUKOaDRhVS"
      }
    },
    {
      "cell_type": "code",
      "source": [
        "sns.pairplot(data=data, kind='reg', diag_kind='kde', x_vars=['Yearly Amount Spent'], y_vars=['Avg. Session Length', 'Time on App', 'Time on Website', 'Length of Membership'])\n",
        "plt.show()"
      ],
      "metadata": {
        "colab": {
          "base_uri": "https://localhost:8080/",
          "height": 726
        },
        "id": "YrU3uvWvSGju",
        "outputId": "0afe599b-5828-4c98-f122-57676ee870a3"
      },
      "execution_count": 695,
      "outputs": [
        {
          "output_type": "display_data",
          "data": {
            "text/plain": [
              "<Figure size 180x720 with 4 Axes>"
            ],
            "image/png": "[encoded data removed]"
          },
          "metadata": {
            "needs_background": "light"
          }
        }
      ]
    },
    {
      "cell_type": "markdown",
      "source": [
        "----"
      ],
      "metadata": {
        "id": "8sxoR7bLV0OJ"
      }
    },
    {
      "cell_type": "markdown",
      "source": [
        "**e. Also, plot sns heatmpa based on correlation with annot=True and discuss which columns must be removed based on that and which column is mostly interesting and related to Yearly Amount Spent?**\n",
        "\n",
        "\n",
        "There are some features that provide no significance/correlation to 'Yearly Amount Spent' at all, such as  'Credit Card', 'Time on Website', and 'Unnamed'. These features should be dropped.\n",
        "\n",
        "The only feature that is strongly correlated with eachother is 'Yearly Amount Spent' and 'Length of Membership'. This is a useful relationship considering we can infer that longer memberships are positively correlated with higher yearly spending. "
      ],
      "metadata": {
        "id": "A8m3tAGpVvUl"
      }
    },
    {
      "cell_type": "code",
      "source": [
        "heatmap = sns.heatmap(data.corr(), annot=True)\n",
        "plt.show()"
      ],
      "metadata": {
        "colab": {
          "base_uri": "https://localhost:8080/",
          "height": 371
        },
        "id": "6C-G-TK4VzUK",
        "outputId": "56e59be7-dd39-4fe8-a9a1-881f0121cba1"
      },
      "execution_count": 696,
      "outputs": [
        {
          "output_type": "display_data",
          "data": {
            "text/plain": [
              "<Figure size 432x288 with 2 Axes>"
            ],
            "image/png": "[encoded data removed]"
          },
          "metadata": {
            "needs_background": "light"
          }
        }
      ]
    },
    {
      "cell_type": "markdown",
      "source": [
        "----"
      ],
      "metadata": {
        "id": "aamdlVGqZcZ8"
      }
    },
    {
      "cell_type": "markdown",
      "source": [
        "**f. Generate a scatter plot with the interesting column you found in the last step against the Yearly Amount Spent**"
      ],
      "metadata": {
        "id": "rhMjbE4WZdd0"
      }
    },
    {
      "cell_type": "code",
      "source": [
        "fig, ax = plt.subplots()\n",
        "ax.scatter(data['Yearly Amount Spent'],  data['Length of Membership'])\n",
        "\n",
        "ax.set_xlabel('Yearly Amount')\n",
        "ax.set_ylabel('Membership Length')\n",
        "\n",
        "plt.show()"
      ],
      "metadata": {
        "colab": {
          "base_uri": "https://localhost:8080/",
          "height": 279
        },
        "id": "mgQtg6rqZh19",
        "outputId": "8c0c8b2f-29fa-4230-d91c-2a10b4675960"
      },
      "execution_count": 697,
      "outputs": [
        {
          "output_type": "display_data",
          "data": {
            "text/plain": [
              "<Figure size 432x288 with 1 Axes>"
            ],
            "image/png": "[encoded data removed]"
          },
          "metadata": {
            "needs_background": "light"
          }
        }
      ]
    },
    {
      "cell_type": "markdown",
      "source": [
        "----"
      ],
      "metadata": {
        "id": "gAKq6gBecC6s"
      }
    },
    {
      "cell_type": "markdown",
      "source": [
        "## **2. Feature Selection and Pre-processing**"
      ],
      "metadata": {
        "id": "re5nHxdJaEEi"
      }
    },
    {
      "cell_type": "markdown",
      "source": [
        "### I. Based on the EDA and null analysis, drop the unnecessary columns for the regression. \n",
        "\n",
        "**I will also drop non-numerical values, since they deem unnecessary to the regression. These columns are 'Email' and 'Address'**"
      ],
      "metadata": {
        "id": "Frv1eU8VaLke"
      }
    },
    {
      "cell_type": "code",
      "source": [
        "data.drop(columns=['Email', 'Address', 'Credit Card', 'Unnamed: 0'], inplace=True)\n",
        "data"
      ],
      "metadata": {
        "colab": {
          "base_uri": "https://localhost:8080/",
          "height": 423
        },
        "id": "TdPbTnVacI7k",
        "outputId": "7f9f24fb-be73-4218-e98e-f4aa04e258c8"
      },
      "execution_count": 698,
      "outputs": [
        {
          "output_type": "execute_result",
          "data": {
            "text/plain": [
              "     Avg. Session Length  Time on App  Time on Website  Length of Membership  \\\n",
              "0              35.497268    13.655651        40.577668              4.582621   \n",
              "1              32.926272    12.109461        38.268959              3.164034   \n",
              "2              34.000915    12.330278        38.110597              4.604543   \n",
              "3              35.305557    14.717514        37.721283              3.620179   \n",
              "4              34.330673    13.795189        38.536653              4.946308   \n",
              "..                   ...          ...              ...                   ...   \n",
              "495            34.237660    14.566160        37.417985              4.246573   \n",
              "496            35.702529    12.695736        38.190268              4.076526   \n",
              "497            33.646777    12.499409        39.332576              5.458264   \n",
              "498            34.322501    13.391423        37.840086              2.836485   \n",
              "499            34.715981    13.418808        36.771016              3.235160   \n",
              "\n",
              "     Yearly Amount Spent  \n",
              "0             588.951054  \n",
              "1             393.204933  \n",
              "2             488.547505  \n",
              "3             582.852344  \n",
              "4             600.406092  \n",
              "..                   ...  \n",
              "495           574.847438  \n",
              "496           530.049004  \n",
              "497           552.620145  \n",
              "498           457.469510  \n",
              "499           498.778642  \n",
              "\n",
              "[500 rows x 5 columns]"
            ],
            "text/html": [
              "\n",
              "  <div id=\"df-5f39fd9c-6a19-42a8-b39a-28053043084c\">\n",
              "    <div class=\"colab-df-container\">\n",
              "      <div>\n",
              "<style scoped>\n",
              "    .dataframe tbody tr th:only-of-type {\n",
              "        vertical-align: middle;\n",
              "    }\n",
              "\n",
              "    .dataframe tbody tr th {\n",
              "        vertical-align: top;\n",
              "    }\n",
              "\n",
              "    .dataframe thead th {\n",
              "        text-align: right;\n",
              "    }\n",
              "</style>\n",
              "<table border=\"1\" class=\"dataframe\">\n",
              "  <thead>\n",
              "    <tr style=\"text-align: right;\">\n",
              "      <th></th>\n",
              "      <th>Avg. Session Length</th>\n",
              "      <th>Time on App</th>\n",
              "      <th>Time on Website</th>\n",
              "      <th>Length of Membership</th>\n",
              "      <th>Yearly Amount Spent</th>\n",
              "    </tr>\n",
              "  </thead>\n",
              "  <tbody>\n",
              "    <tr>\n",
              "      <th>0</th>\n",
              "      <td>35.497268</td>\n",
              "      <td>13.655651</td>\n",
              "      <td>40.577668</td>\n",
              "      <td>4.582621</td>\n",
              "      <td>588.951054</td>\n",
              "    </tr>\n",
              "    <tr>\n",
              "      <th>1</th>\n",
              "      <td>32.926272</td>\n",
              "      <td>12.109461</td>\n",
              "      <td>38.268959</td>\n",
              "      <td>3.164034</td>\n",
              "      <td>393.204933</td>\n",
              "    </tr>\n",
              "    <tr>\n",
              "      <th>2</th>\n",
              "      <td>34.000915</td>\n",
              "      <td>12.330278</td>\n",
              "      <td>38.110597</td>\n",
              "      <td>4.604543</td>\n",
              "      <td>488.547505</td>\n",
              "    </tr>\n",
              "    <tr>\n",
              "      <th>3</th>\n",
              "      <td>35.305557</td>\n",
              "      <td>14.717514</td>\n",
              "      <td>37.721283</td>\n",
              "      <td>3.620179</td>\n",
              "      <td>582.852344</td>\n",
              "    </tr>\n",
              "    <tr>\n",
              "      <th>4</th>\n",
              "      <td>34.330673</td>\n",
              "      <td>13.795189</td>\n",
              "      <td>38.536653</td>\n",
              "      <td>4.946308</td>\n",
              "      <td>600.406092</td>\n",
              "    </tr>\n",
              "    <tr>\n",
              "      <th>...</th>\n",
              "      <td>...</td>\n",
              "      <td>...</td>\n",
              "      <td>...</td>\n",
              "      <td>...</td>\n",
              "      <td>...</td>\n",
              "    </tr>\n",
              "    <tr>\n",
              "      <th>495</th>\n",
              "      <td>34.237660</td>\n",
              "      <td>14.566160</td>\n",
              "      <td>37.417985</td>\n",
              "      <td>4.246573</td>\n",
              "      <td>574.847438</td>\n",
              "    </tr>\n",
              "    <tr>\n",
              "      <th>496</th>\n",
              "      <td>35.702529</td>\n",
              "      <td>12.695736</td>\n",
              "      <td>38.190268</td>\n",
              "      <td>4.076526</td>\n",
              "      <td>530.049004</td>\n",
              "    </tr>\n",
              "    <tr>\n",
              "      <th>497</th>\n",
              "      <td>33.646777</td>\n",
              "      <td>12.499409</td>\n",
              "      <td>39.332576</td>\n",
              "      <td>5.458264</td>\n",
              "      <td>552.620145</td>\n",
              "    </tr>\n",
              "    <tr>\n",
              "      <th>498</th>\n",
              "      <td>34.322501</td>\n",
              "      <td>13.391423</td>\n",
              "      <td>37.840086</td>\n",
              "      <td>2.836485</td>\n",
              "      <td>457.469510</td>\n",
              "    </tr>\n",
              "    <tr>\n",
              "      <th>499</th>\n",
              "      <td>34.715981</td>\n",
              "      <td>13.418808</td>\n",
              "      <td>36.771016</td>\n",
              "      <td>3.235160</td>\n",
              "      <td>498.778642</td>\n",
              "    </tr>\n",
              "  </tbody>\n",
              "</table>\n",
              "<p>500 rows × 5 columns</p>\n",
              "</div>\n",
              "      <button class=\"colab-df-convert\" onclick=\"convertToInteractive('df-5f39fd9c-6a19-42a8-b39a-28053043084c')\"\n",
              "              title=\"Convert this dataframe to an interactive table.\"\n",
              "              style=\"display:none;\">\n",
              "        \n",
              "  <svg xmlns=\"http://www.w3.org/2000/svg\" height=\"24px\"viewBox=\"0 0 24 24\"\n",
              "       width=\"24px\">\n",
              "    <path d=\"M0 0h24v24H0V0z\" fill=\"none\"/>\n",
              "    <path d=\"M18.56 5.44l.94 2.06.94-2.06 2.06-.94-2.06-.94-.94-2.06-.94 2.06-2.06.94zm-11 1L8.5 8.5l.94-2.06 2.06-.94-2.06-.94L8.5 2.5l-.94 2.06-2.06.94zm10 10l.94 2.06.94-2.06 2.06-.94-2.06-.94-.94-2.06-.94 2.06-2.06.94z\"/><path d=\"M17.41 7.96l-1.37-1.37c-.4-.4-.92-.59-1.43-.59-.52 0-1.04.2-1.43.59L10.3 9.45l-7.72 7.72c-.78.78-.78 2.05 0 2.83L4 21.41c.39.39.9.59 1.41.59.51 0 1.02-.2 1.41-.59l7.78-7.78 2.81-2.81c.8-.78.8-2.07 0-2.86zM5.41 20L4 18.59l7.72-7.72 1.47 1.35L5.41 20z\"/>\n",
              "  </svg>\n",
              "      </button>\n",
              "      \n",
              "  <style>\n",
              "    .colab-df-container {\n",
              "      display:flex;\n",
              "      flex-wrap:wrap;\n",
              "      gap: 12px;\n",
              "    }\n",
              "\n",
              "    .colab-df-convert {\n",
              "      background-color: #E8F0FE;\n",
              "      border: none;\n",
              "      border-radius: 50%;\n",
              "      cursor: pointer;\n",
              "      display: none;\n",
              "      fill: #1967D2;\n",
              "      height: 32px;\n",
              "      padding: 0 0 0 0;\n",
              "      width: 32px;\n",
              "    }\n",
              "\n",
              "    .colab-df-convert:hover {\n",
              "      background-color: #E2EBFA;\n",
              "      box-shadow: 0px 1px 2px rgba(60, 64, 67, 0.3), 0px 1px 3px 1px rgba(60, 64, 67, 0.15);\n",
              "      fill: #174EA6;\n",
              "    }\n",
              "\n",
              "    [theme=dark] .colab-df-convert {\n",
              "      background-color: #3B4455;\n",
              "      fill: #D2E3FC;\n",
              "    }\n",
              "\n",
              "    [theme=dark] .colab-df-convert:hover {\n",
              "      background-color: #434B5C;\n",
              "      box-shadow: 0px 1px 3px 1px rgba(0, 0, 0, 0.15);\n",
              "      filter: drop-shadow(0px 1px 2px rgba(0, 0, 0, 0.3));\n",
              "      fill: #FFFFFF;\n",
              "    }\n",
              "  </style>\n",
              "\n",
              "      <script>\n",
              "        const buttonEl =\n",
              "          document.querySelector('#df-5f39fd9c-6a19-42a8-b39a-28053043084c button.colab-df-convert');\n",
              "        buttonEl.style.display =\n",
              "          google.colab.kernel.accessAllowed ? 'block' : 'none';\n",
              "\n",
              "        async function convertToInteractive(key) {\n",
              "          const element = document.querySelector('#df-5f39fd9c-6a19-42a8-b39a-28053043084c');\n",
              "          const dataTable =\n",
              "            await google.colab.kernel.invokeFunction('convertToInteractive',\n",
              "                                                     [key], {});\n",
              "          if (!dataTable) return;\n",
              "\n",
              "          const docLinkHtml = 'Like what you see? Visit the ' +\n",
              "            '<a target=\"_blank\" href=https://colab.research.google.com/notebooks/data_table.ipynb>data table notebook</a>'\n",
              "            + ' to learn more about interactive tables.';\n",
              "          element.innerHTML = '';\n",
              "          dataTable['output_type'] = 'display_data';\n",
              "          await google.colab.output.renderOutput(dataTable, element);\n",
              "          const docLink = document.createElement('div');\n",
              "          docLink.innerHTML = docLinkHtml;\n",
              "          element.appendChild(docLink);\n",
              "        }\n",
              "      </script>\n",
              "    </div>\n",
              "  </div>\n",
              "  "
            ]
          },
          "metadata": {},
          "execution_count": 698
        }
      ]
    },
    {
      "cell_type": "markdown",
      "source": [
        "## **3. X/Y and Training/Test Split**"
      ],
      "metadata": {
        "id": "RMGvF2TXfM5x"
      }
    },
    {
      "cell_type": "markdown",
      "source": [
        "### I. Use sklearn's train_test_split to split the data set into training and test sets. There should be 30% records in the test set. The random_stat should be 101 "
      ],
      "metadata": {
        "id": "qEkPy8vzfmaK"
      }
    },
    {
      "cell_type": "code",
      "source": [
        "X = data.drop(columns=['Yearly Amount Spent']).values\n",
        "y = data['Yearly Amount Spent'].values\n",
        "\n",
        "X_train, X_test, y_train, y_test = train_test_split(X, y, test_size=0.30, random_state=101)"
      ],
      "metadata": {
        "id": "dFa2shKnfseg"
      },
      "execution_count": 699,
      "outputs": []
    },
    {
      "cell_type": "markdown",
      "source": [
        "----"
      ],
      "metadata": {
        "id": "CBgtRapWk_3e"
      }
    },
    {
      "cell_type": "markdown",
      "source": [
        "### II. As we will be doing gradient descent as well as some other regression technique, scaling the data set is important. So, use sklearn's StandardScaler for scalling the X of training and test sets. But don't do it for y(target) train and test."
      ],
      "metadata": {
        "id": "EjCbtFdSk2QH"
      }
    },
    {
      "cell_type": "code",
      "source": [
        "from sklearn.preprocessing import StandardScaler\n",
        "\n",
        "sc = StandardScaler()\n",
        "\n",
        "X_train_scaled = sc.fit_transform(X_train)\n",
        "X_test_scaled  = sc.fit_transform(X_test)"
      ],
      "metadata": {
        "id": "dKoXBCkkk-OQ"
      },
      "execution_count": 700,
      "outputs": []
    },
    {
      "cell_type": "markdown",
      "source": [
        "## **4. Training Linear Model using SKLearn's LinearRegression**"
      ],
      "metadata": {
        "id": "A3u7Ub_so6C1"
      }
    },
    {
      "cell_type": "markdown",
      "source": [
        "### I. Train a linear model using Sklearn''s LinearRegression (example in the linear regression slide/colab links in webcourses)"
      ],
      "metadata": {
        "id": "_fIxc4f_pAu5"
      }
    },
    {
      "cell_type": "code",
      "source": [
        "from sklearn.linear_model import LinearRegression\n",
        "lr = LinearRegression()\n",
        "\n",
        "lr.fit(X_train_scaled, y_train)"
      ],
      "metadata": {
        "colab": {
          "base_uri": "https://localhost:8080/"
        },
        "id": "YCpjr_TLpEtf",
        "outputId": "63f6c0fa-13f1-4f56-ac19-7c56d9fa873e"
      },
      "execution_count": 701,
      "outputs": [
        {
          "output_type": "execute_result",
          "data": {
            "text/plain": [
              "LinearRegression()"
            ]
          },
          "metadata": {},
          "execution_count": 701
        }
      ]
    },
    {
      "cell_type": "markdown",
      "source": [
        "-----"
      ],
      "metadata": {
        "id": "9jBft9_HlRTm"
      }
    },
    {
      "cell_type": "markdown",
      "source": [
        "### II. After training, show the coefficients and intercept"
      ],
      "metadata": {
        "id": "hKvtnf9ItfOu"
      }
    },
    {
      "cell_type": "code",
      "source": [
        "print(\"Coefficients: \", lr.coef_)\n",
        "print(\"Intercept:    \", lr.intercept_)"
      ],
      "metadata": {
        "colab": {
          "base_uri": "https://localhost:8080/"
        },
        "id": "HRhBcaVvtkeK",
        "outputId": "fe0c89aa-44f4-489b-c35f-406ce21eafb3"
      },
      "execution_count": 702,
      "outputs": [
        {
          "output_type": "stream",
          "name": "stdout",
          "text": [
            "Coefficients:  [26.04265125 36.67425683  0.18503853 60.20236045]\n",
            "Intercept:     499.7231164913068\n"
          ]
        }
      ]
    },
    {
      "cell_type": "markdown",
      "source": [
        "-----"
      ],
      "metadata": {
        "id": "gKJUMmvvlTvb"
      }
    },
    {
      "cell_type": "markdown",
      "source": [
        "### III. Predict for the test data"
      ],
      "metadata": {
        "id": "s-Q5i4TouE56"
      }
    },
    {
      "cell_type": "code",
      "source": [
        "y_pred = lr.predict(X_test_scaled)"
      ],
      "metadata": {
        "id": "EUJMWxUEuHsS"
      },
      "execution_count": 703,
      "outputs": []
    },
    {
      "cell_type": "markdown",
      "source": [
        "------"
      ],
      "metadata": {
        "id": "hZntvSO1lWAY"
      }
    },
    {
      "cell_type": "markdown",
      "source": [
        "### IV. Generate a scatter plot that shows the Y test on x-axis and y predicted in y-axis"
      ],
      "metadata": {
        "id": "1YMK4UcduIEJ"
      }
    },
    {
      "cell_type": "code",
      "source": [
        "fig, ax = plt.subplots()\n",
        "ax.scatter(y_test,  y_pred)\n",
        "\n",
        "ax.set_xlabel('Y test')\n",
        "ax.set_ylabel('Y predict')\n",
        "\n",
        "plt.show()"
      ],
      "metadata": {
        "colab": {
          "base_uri": "https://localhost:8080/",
          "height": 279
        },
        "id": "VdpKOBU2uLxX",
        "outputId": "fb519aa8-4916-4ec2-ca56-c7b389f2b0b4"
      },
      "execution_count": 704,
      "outputs": [
        {
          "output_type": "display_data",
          "data": {
            "text/plain": [
              "<Figure size 432x288 with 1 Axes>"
            ],
            "image/png": "[encoded data removed]"
          },
          "metadata": {
            "needs_background": "light"
          }
        }
      ]
    },
    {
      "cell_type": "markdown",
      "source": [
        "-------"
      ],
      "metadata": {
        "id": "R_h36nO2lYTc"
      }
    },
    {
      "cell_type": "markdown",
      "source": [
        "### V. Use sklearn's metrics to print the value of MAE, MSE, RMSE, and R^2  (see documentation of sklearn's metrics)"
      ],
      "metadata": {
        "id": "-AieHcED7XqK"
      }
    },
    {
      "cell_type": "code",
      "source": [
        "import sklearn.metrics as metrics\n",
        "\n",
        "mae  = metrics.mean_absolute_error(y_test, y_pred)\n",
        "mse  = metrics.mean_squared_error(y_test, y_pred)\n",
        "rmse = np.sqrt(mse)\n",
        "r2   = metrics.r2_score(y_test, y_pred)\n",
        "\n",
        "print(\"Results of sklearn.metrics:\")\n",
        "print(\"MAE:\",mae)\n",
        "print(\"MSE:\", mse)\n",
        "print(\"RMSE:\", rmse)\n",
        "print(\"R-Squared:\", r2)"
      ],
      "metadata": {
        "colab": {
          "base_uri": "https://localhost:8080/"
        },
        "id": "e78Xy8H27cMa",
        "outputId": "37c555d8-afdd-465a-8e5e-36bd42f686b2"
      },
      "execution_count": 705,
      "outputs": [
        {
          "output_type": "stream",
          "name": "stdout",
          "text": [
            "Results of sklearn.metrics:\n",
            "MAE: 9.369764701026478\n",
            "MSE: 133.2745416560121\n",
            "RMSE: 11.544459348796378\n",
            "R-Squared: 0.9816395492143278\n"
          ]
        }
      ]
    },
    {
      "cell_type": "markdown",
      "source": [
        "------"
      ],
      "metadata": {
        "id": "31pg09VLlatC"
      }
    },
    {
      "cell_type": "markdown",
      "source": [
        "### VI. Interpretation: Interpret the coefficient and which coefficient belongs to which feature and based on that explain any strategy that should help the business\n",
        "\n"
      ],
      "metadata": {
        "id": "vGZgC_COES2H"
      }
    },
    {
      "cell_type": "markdown",
      "source": [
        "The coefficients seem to be related to how much correlation a feature has for the target value. The business should recognize that longer memberships relate to more money spent per year, therefor they should focus on trying to get long term customers."
      ],
      "metadata": {
        "id": "2LiPD9tRm3_c"
      }
    },
    {
      "cell_type": "markdown",
      "source": [
        "## **5. Normal Equation**"
      ],
      "metadata": {
        "id": "UZUVd1jNEaXu"
      }
    },
    {
      "cell_type": "markdown",
      "source": [
        "### I. Implement Normal Equation and find best_theta values based on the training set"
      ],
      "metadata": {
        "id": "WPf2HUBOEmEq"
      }
    },
    {
      "cell_type": "code",
      "source": [
        "y_train = np.array(y_train).reshape(350, 1)\n",
        "X_ones = np.ones((len(X_train_scaled), 1))\n",
        "X_new_train = np.hstack((X_ones, X_train_scaled))\n",
        "\n",
        "theta_best = np.linalg.inv(X_new_train.T.dot(X_new_train)).dot(X_new_train.T).dot(y_train)"
      ],
      "metadata": {
        "id": "3dC1jMNSF_pZ"
      },
      "execution_count": 706,
      "outputs": []
    },
    {
      "cell_type": "markdown",
      "source": [
        "------"
      ],
      "metadata": {
        "id": "OgHazT0Jm9DL"
      }
    },
    {
      "cell_type": "markdown",
      "source": [
        "### II. Display the theta values. Are they very close to the sklearn's linear regression?\n",
        "\n",
        "Yes, they are very close to the linear regression. But the thetas are represented in exponential form, still the same as regression though."
      ],
      "metadata": {
        "id": "iCsgUZ4rgX5H"
      }
    },
    {
      "cell_type": "code",
      "source": [
        "print(theta_best)"
      ],
      "metadata": {
        "colab": {
          "base_uri": "https://localhost:8080/"
        },
        "id": "7IlF7wUTgpbR",
        "outputId": "9ee48413-e52f-45ed-e605-ee120395877e"
      },
      "execution_count": 707,
      "outputs": [
        {
          "output_type": "stream",
          "name": "stdout",
          "text": [
            "[[4.99723116e+02]\n",
            " [2.60426512e+01]\n",
            " [3.66742568e+01]\n",
            " [1.85038527e-01]\n",
            " [6.02023604e+01]]\n"
          ]
        }
      ]
    },
    {
      "cell_type": "markdown",
      "source": [
        "--------"
      ],
      "metadata": {
        "id": "PbiWXVCfm-li"
      }
    },
    {
      "cell_type": "markdown",
      "source": [
        "### III. Prepare the test set before prediction\n"
      ],
      "metadata": {
        "id": "y7-awAhXg4fb"
      }
    },
    {
      "cell_type": "code",
      "source": [
        "y_test = np.array(y_test).reshape(150, 1)\n",
        "X_ones_test = np.ones((len(X_test_scaled), 1))\n",
        "X_new_test = np.hstack((X_ones_test, X_test_scaled))\n",
        "\n",
        "print(y_test.shape)\n",
        "print(X_new_test.shape)"
      ],
      "metadata": {
        "colab": {
          "base_uri": "https://localhost:8080/"
        },
        "id": "L5YEiWYJiaAk",
        "outputId": "79140fec-e285-4dbb-dd38-cee96a985d3e"
      },
      "execution_count": 708,
      "outputs": [
        {
          "output_type": "stream",
          "name": "stdout",
          "text": [
            "(150, 1)\n",
            "(150, 5)\n"
          ]
        }
      ]
    },
    {
      "cell_type": "markdown",
      "source": [
        "-------"
      ],
      "metadata": {
        "id": "eDC_Cj9ZnEK9"
      }
    },
    {
      "cell_type": "markdown",
      "source": [
        "### IV. Perform prediction for the test set"
      ],
      "metadata": {
        "id": "fOxmxC9-jIsi"
      }
    },
    {
      "cell_type": "code",
      "source": [
        "y_pred2= X_new_test.dot(theta_best)"
      ],
      "metadata": {
        "id": "XWWp2CQajRe6"
      },
      "execution_count": 709,
      "outputs": []
    },
    {
      "cell_type": "markdown",
      "source": [
        "-----"
      ],
      "metadata": {
        "id": "e5JiD93knGMC"
      }
    },
    {
      "cell_type": "markdown",
      "source": [
        "### V. Generate a scatter plot that shows the Y test on x-axis and y predicted in y-axis\n"
      ],
      "metadata": {
        "id": "t8pjRYjFj6L2"
      }
    },
    {
      "cell_type": "code",
      "source": [
        "fig, ax = plt.subplots()\n",
        "ax.scatter(y_test,  y_pred2)\n",
        "\n",
        "ax.set_xlabel('Y test')\n",
        "ax.set_ylabel('Y predict (Normal Eq)')\n",
        "\n",
        "plt.show()"
      ],
      "metadata": {
        "colab": {
          "base_uri": "https://localhost:8080/",
          "height": 279
        },
        "id": "9t0iUo3SkAx3",
        "outputId": "b1aa57e7-f659-45c0-e6ad-1f05e0a6104f"
      },
      "execution_count": 710,
      "outputs": [
        {
          "output_type": "display_data",
          "data": {
            "text/plain": [
              "<Figure size 432x288 with 1 Axes>"
            ],
            "image/png": "[encoded data removed]"
          },
          "metadata": {
            "needs_background": "light"
          }
        }
      ]
    },
    {
      "cell_type": "markdown",
      "source": [
        "------"
      ],
      "metadata": {
        "id": "-iPGEhFVnHxp"
      }
    },
    {
      "cell_type": "markdown",
      "source": [
        "### VI. Use sklearn's metrics to print the value of MAE, MSE, RMSE, and R^2  (see documentation of sklearn's metrics)"
      ],
      "metadata": {
        "id": "EH0TUyPgkU9b"
      }
    },
    {
      "cell_type": "code",
      "source": [
        "mae2  = metrics.mean_absolute_error(y_test, y_pred2)\n",
        "mse2  = metrics.mean_squared_error(y_test, y_pred2)\n",
        "rmse2 = np.sqrt(mse2)\n",
        "r2_2   = metrics.r2_score(y_test, y_pred2)\n",
        "\n",
        "print(\"Results of sklearn.metrics:\")\n",
        "print(\"MAE:\",mae2)\n",
        "print(\"MSE:\", mse2)\n",
        "print(\"RMSE:\", rmse2)\n",
        "print(\"R-Squared:\", r2_2)"
      ],
      "metadata": {
        "colab": {
          "base_uri": "https://localhost:8080/"
        },
        "id": "-zL21RvvkY6e",
        "outputId": "492e68fd-d864-4330-fabd-27edddc38ef7"
      },
      "execution_count": 711,
      "outputs": [
        {
          "output_type": "stream",
          "name": "stdout",
          "text": [
            "Results of sklearn.metrics:\n",
            "MAE: 9.369764701026545\n",
            "MSE: 133.27454165601415\n",
            "RMSE: 11.544459348796467\n",
            "R-Squared: 0.9816395492143275\n"
          ]
        }
      ]
    },
    {
      "cell_type": "markdown",
      "source": [
        "--------"
      ],
      "metadata": {
        "id": "0CzwwonMnJE3"
      }
    },
    {
      "cell_type": "markdown",
      "source": [
        "### VII. What is the limitation of using the Normal equation for regression?\n",
        "\n",
        "A limitation of using Normal Equation for regression is is gets very computationally expensive for large number of features."
      ],
      "metadata": {
        "id": "-XTPZw3lkz4S"
      }
    },
    {
      "cell_type": "markdown",
      "source": [
        "## **6. Batch Gradient Descent**\n"
      ],
      "metadata": {
        "id": "0cPFUiA6nLf_"
      }
    },
    {
      "cell_type": "markdown",
      "source": [
        "### I. Implement Batch Gradient Descent based on the way we have learned in the class (See sample code form pdf). You can play with eta and n_iterations and should set to reasonable eta and number of iterations so that you can get the thetas close to Normal equation's theta"
      ],
      "metadata": {
        "id": "SnZP7QOenoy8"
      }
    },
    {
      "cell_type": "code",
      "source": [
        "cost_list = []\n",
        "epoch_list = []\n",
        "predicted_list = []\n",
        "\n",
        "m = 350\n",
        "eta = 0.2\n",
        "n_iterations = 150\n",
        "theta = np.random.randn(5,1)\n",
        "\n",
        "X_b = X_new_train\n",
        "y_b = y_train\n",
        "\n",
        "for iteration in range(n_iterations):\n",
        "  gradients = 2/m * X_b.T.dot(X_b.dot(theta) - y_train)\n",
        "  theta = theta - eta * gradients\n",
        "\n",
        "  y_predicted = X_b.dot(theta)\n",
        "  cost = np.mean(np.square(y_b-y_predicted))\n",
        "\n",
        "  if iteration%10 == 0:\n",
        "    cost_list.append(cost)\n",
        "    epoch_list.append(iteration)\n"
      ],
      "metadata": {
        "id": "WXMlVpfvnxrQ"
      },
      "execution_count": 712,
      "outputs": []
    },
    {
      "cell_type": "markdown",
      "source": [
        "-----"
      ],
      "metadata": {
        "id": "8IDLgaEDcp_F"
      }
    },
    {
      "cell_type": "markdown",
      "source": [
        "### II. Display the theta values. Are they very close to the sklearn's linear regression?\n"
      ],
      "metadata": {
        "id": "vSviWmyCuTvQ"
      }
    },
    {
      "cell_type": "markdown",
      "source": [
        "Yes, the values are exactly what they should be."
      ],
      "metadata": {
        "id": "4Jut1dE6ue-R"
      }
    },
    {
      "cell_type": "code",
      "source": [
        "print(theta)"
      ],
      "metadata": {
        "colab": {
          "base_uri": "https://localhost:8080/"
        },
        "id": "2_z50q1aucvo",
        "outputId": "02a3cc8b-e8dd-40cb-d35a-af00efa7f1b6"
      },
      "execution_count": 713,
      "outputs": [
        {
          "output_type": "stream",
          "name": "stdout",
          "text": [
            "[[4.99723116e+02]\n",
            " [2.60426512e+01]\n",
            " [3.66742568e+01]\n",
            " [1.85038527e-01]\n",
            " [6.02023604e+01]]\n"
          ]
        }
      ]
    },
    {
      "cell_type": "markdown",
      "source": [
        "-----"
      ],
      "metadata": {
        "id": "UPYbl6EHcpUX"
      }
    },
    {
      "cell_type": "markdown",
      "source": [
        "### III. Also plot step number (in x-axis) against the cost(y axis). "
      ],
      "metadata": {
        "id": "JyzoLO6fumsK"
      }
    },
    {
      "cell_type": "code",
      "source": [
        "plt.plot(epoch_list, cost_list)\n",
        "plt.xlabel('epoch (step)')\n",
        "plt.ylabel('cost')\n",
        "plt.show()"
      ],
      "metadata": {
        "colab": {
          "base_uri": "https://localhost:8080/",
          "height": 279
        },
        "id": "fMlO7KMPuvWQ",
        "outputId": "1e44bce2-7d8a-4037-827b-ee933d6d4451"
      },
      "execution_count": 714,
      "outputs": [
        {
          "output_type": "display_data",
          "data": {
            "text/plain": [
              "<Figure size 432x288 with 1 Axes>"
            ],
            "image/png": "[encoded data removed]"
          },
          "metadata": {
            "needs_background": "light"
          }
        }
      ]
    },
    {
      "cell_type": "markdown",
      "source": [
        "-----"
      ],
      "metadata": {
        "id": "dZBXoojncob3"
      }
    },
    {
      "cell_type": "markdown",
      "source": [
        "### IV. Perform Prediction for the test set\n"
      ],
      "metadata": {
        "id": "h9YVA9kOxHCs"
      }
    },
    {
      "cell_type": "code",
      "source": [
        "y_pred3 = X_new_test.dot(theta)"
      ],
      "metadata": {
        "id": "JQo1pRkWxK01"
      },
      "execution_count": 715,
      "outputs": []
    },
    {
      "cell_type": "markdown",
      "source": [
        "------"
      ],
      "metadata": {
        "id": "6qyQnCyncna6"
      }
    },
    {
      "cell_type": "markdown",
      "source": [
        "### V. Generate a scatter plot that shows the Y test on the x-axis and y predicted in the y-axis\n"
      ],
      "metadata": {
        "id": "bNFP_BOzzmCP"
      }
    },
    {
      "cell_type": "code",
      "source": [
        "fig, ax = plt.subplots()\n",
        "ax.scatter(y_test,  y_pred3)\n",
        "\n",
        "ax.set_xlabel('Y test')\n",
        "ax.set_ylabel('Y predict (Batch Gradient)')\n",
        "\n",
        "plt.show()"
      ],
      "metadata": {
        "colab": {
          "base_uri": "https://localhost:8080/",
          "height": 279
        },
        "id": "gWGR1AaazrAU",
        "outputId": "9c1ca7b9-4605-4917-b845-4402d163d6d1"
      },
      "execution_count": 716,
      "outputs": [
        {
          "output_type": "display_data",
          "data": {
            "text/plain": [
              "<Figure size 432x288 with 1 Axes>"
            ],
            "image/png": "[encoded data removed]"
          },
          "metadata": {
            "needs_background": "light"
          }
        }
      ]
    },
    {
      "cell_type": "markdown",
      "source": [
        "-----"
      ],
      "metadata": {
        "id": "5d4QuyD5cmlk"
      }
    },
    {
      "cell_type": "markdown",
      "source": [
        "### VI. Use sklearn's metrics to print the value of MAE, MSE, RMSE, and R^2  (see documentation of sklearn's metrics)"
      ],
      "metadata": {
        "id": "aLyMgG-d0O6K"
      }
    },
    {
      "cell_type": "code",
      "source": [
        "mae3  = metrics.mean_absolute_error(y_test, y_pred3)\n",
        "mse3  = metrics.mean_squared_error(y_test, y_pred3)\n",
        "rmse3 = np.sqrt(mse3)\n",
        "r2_3   = metrics.r2_score(y_test, y_pred3)\n",
        "\n",
        "print(\"Results of sklearn.metrics:\")\n",
        "print(\"MAE:\",mae3)\n",
        "print(\"MSE:\", mse3)\n",
        "print(\"RMSE:\", rmse3)\n",
        "print(\"R-Squared:\", r2_3)"
      ],
      "metadata": {
        "colab": {
          "base_uri": "https://localhost:8080/"
        },
        "id": "wDcZdeBB0Smo",
        "outputId": "c98ab31e-0035-4233-f90f-591f42bd27ff"
      },
      "execution_count": 717,
      "outputs": [
        {
          "output_type": "stream",
          "name": "stdout",
          "text": [
            "Results of sklearn.metrics:\n",
            "MAE: 9.369764701026526\n",
            "MSE: 133.2745416560135\n",
            "RMSE: 11.544459348796439\n",
            "R-Squared: 0.9816395492143276\n"
          ]
        }
      ]
    },
    {
      "cell_type": "markdown",
      "source": [
        "-----"
      ],
      "metadata": {
        "id": "evWeaZR5cl22"
      }
    },
    {
      "cell_type": "markdown",
      "source": [
        "### VII. Short Question: How do derivatives help in the process of gradient descent?"
      ],
      "metadata": {
        "id": "uB32UvtZ02DU"
      }
    },
    {
      "cell_type": "markdown",
      "source": [
        "Derivatives allow us to determine whether to increase or decrease weights/functions by looking at the slope and minimize cost functions. "
      ],
      "metadata": {
        "id": "I6tgZPkH08cm"
      }
    },
    {
      "cell_type": "markdown",
      "source": [
        "-----"
      ],
      "metadata": {
        "id": "BA8neV3AckFU"
      }
    },
    {
      "cell_type": "markdown",
      "source": [
        "### VIII. Short Question: What are the benefits and the limitations of using batch gradient descent? \n"
      ],
      "metadata": {
        "id": "CfRxwvPx1QqF"
      }
    },
    {
      "cell_type": "markdown",
      "source": [
        "Batch gradient descents are computationally efficient and stable. On the other hand, in certain cases it can converge to a model that is not the best model it can achieve. The training set may be too large."
      ],
      "metadata": {
        "id": "PemTjME31U_S"
      }
    },
    {
      "cell_type": "markdown",
      "source": [
        "## **8. SGDRegressor from sklearn**"
      ],
      "metadata": {
        "id": "38WtbgeD4L4R"
      }
    },
    {
      "cell_type": "markdown",
      "source": [
        "## I. Use sklearn's SGDRegressor to train a model for our data set. Put a reasonable iteration and tolerance and learning steps so that we can get coefficients close to normal equation"
      ],
      "metadata": {
        "id": "qpf-wnQr4cx0"
      }
    },
    {
      "cell_type": "code",
      "source": [
        "from sklearn.linear_model import SGDRegressor\n",
        "sgd_reg = SGDRegressor(max_iter=275, tol=0.001, penalty=None, eta0=0.1)\n",
        "sgd_reg.fit(X_train_scaled, y_train.ravel())"
      ],
      "metadata": {
        "colab": {
          "base_uri": "https://localhost:8080/"
        },
        "id": "C97h1an542DW",
        "outputId": "aa1037fe-4fbc-4489-b1b3-587945f863d5"
      },
      "execution_count": 718,
      "outputs": [
        {
          "output_type": "execute_result",
          "data": {
            "text/plain": [
              "SGDRegressor(eta0=0.1, max_iter=275, penalty=None)"
            ]
          },
          "metadata": {},
          "execution_count": 718
        }
      ]
    },
    {
      "cell_type": "markdown",
      "source": [
        "-----"
      ],
      "metadata": {
        "id": "sOTDRKSWcdDL"
      }
    },
    {
      "cell_type": "markdown",
      "source": [
        "## II. Display the theta values. Are they very close to sklearn's linear regression?\n"
      ],
      "metadata": {
        "id": "SEdqKbPM4kKR"
      }
    },
    {
      "cell_type": "code",
      "source": [
        "print(\"Coefficients: \", sgd_reg.coef_)\n",
        "print(\"Intercept:    \", sgd_reg.intercept_)"
      ],
      "metadata": {
        "colab": {
          "base_uri": "https://localhost:8080/"
        },
        "id": "FxmFrAPW6ygw",
        "outputId": "9fb6ae6d-007c-49f7-ae44-5f2c79dc2192"
      },
      "execution_count": 719,
      "outputs": [
        {
          "output_type": "stream",
          "name": "stdout",
          "text": [
            "Coefficients:  [25.17084586 36.61953402  0.63135495 59.21044684]\n",
            "Intercept:     [499.84461752]\n"
          ]
        }
      ]
    },
    {
      "cell_type": "markdown",
      "source": [
        "-----"
      ],
      "metadata": {
        "id": "iMmrJ0psccVb"
      }
    },
    {
      "cell_type": "markdown",
      "source": [
        "## III. Predict for the test data\n"
      ],
      "metadata": {
        "id": "edXrJaag4nWE"
      }
    },
    {
      "cell_type": "code",
      "source": [
        "y_pred4 = sgd_reg.predict(X_test_scaled)"
      ],
      "metadata": {
        "id": "K4x3boKf8LgK"
      },
      "execution_count": 720,
      "outputs": []
    },
    {
      "cell_type": "markdown",
      "source": [
        "----"
      ],
      "metadata": {
        "id": "K-HJpMAocYpK"
      }
    },
    {
      "cell_type": "markdown",
      "source": [
        "## IV. Generate a scatter plot that shows the Y test on the x-axis and y predicted in the y-axis\n"
      ],
      "metadata": {
        "id": "eassBVQF4qyz"
      }
    },
    {
      "cell_type": "code",
      "source": [
        "fig, ax = plt.subplots()\n",
        "ax.scatter(y_test,  y_pred4)\n",
        "\n",
        "ax.set_xlabel('Y test')\n",
        "ax.set_ylabel('Y predict (SGD)')\n",
        "\n",
        "plt.show()"
      ],
      "metadata": {
        "colab": {
          "base_uri": "https://localhost:8080/",
          "height": 279
        },
        "id": "V_aqTmje8ovl",
        "outputId": "1a8c2942-99f9-4860-985b-9ca5512b7b31"
      },
      "execution_count": 721,
      "outputs": [
        {
          "output_type": "display_data",
          "data": {
            "text/plain": [
              "<Figure size 432x288 with 1 Axes>"
            ],
            "image/png": "[encoded data removed]"
          },
          "metadata": {
            "needs_background": "light"
          }
        }
      ]
    },
    {
      "cell_type": "markdown",
      "source": [
        "-----"
      ],
      "metadata": {
        "id": "Anl4XfE4cXmd"
      }
    },
    {
      "cell_type": "markdown",
      "source": [
        "## V. Use sklearn's metrics to print the value of MAE, MSE, RMSE, and R^2  (see documentation of sklearn's metrics)"
      ],
      "metadata": {
        "id": "9LBl_xNS4wFl"
      }
    },
    {
      "cell_type": "code",
      "source": [
        "mae4  = metrics.mean_absolute_error(y_test, y_pred4)\n",
        "mse4  = metrics.mean_squared_error(y_test, y_pred4)\n",
        "rmse4 = np.sqrt(mse4)\n",
        "r2_4   = metrics.r2_score(y_test, y_pred4)\n",
        "\n",
        "print(\"Results of sklearn.metrics:\")\n",
        "print(\"MAE:\",mae4)\n",
        "print(\"MSE:\", mse4)\n",
        "print(\"RMSE:\", rmse4)\n",
        "print(\"R-Squared:\", r2_4)"
      ],
      "metadata": {
        "colab": {
          "base_uri": "https://localhost:8080/"
        },
        "id": "Jnj0lSnP8wGb",
        "outputId": "baf50ae4-dc11-4787-8049-b14bddb8fd76"
      },
      "execution_count": 722,
      "outputs": [
        {
          "output_type": "stream",
          "name": "stdout",
          "text": [
            "Results of sklearn.metrics:\n",
            "MAE: 9.574554793211473\n",
            "MSE: 140.84540284794232\n",
            "RMSE: 11.867830587261613\n",
            "R-Squared: 0.9805965561370875\n"
          ]
        }
      ]
    },
    {
      "cell_type": "markdown",
      "source": [
        "## **9. Mini-batch Gradient Descent**"
      ],
      "metadata": {
        "id": "AWOjd9W78_G9"
      }
    },
    {
      "cell_type": "markdown",
      "source": [
        "### I. Briefly explain how mini-batch can overcome the limitations of Batch gradient descent and SGD."
      ],
      "metadata": {
        "id": "NDLiFhja9C7g"
      }
    },
    {
      "cell_type": "markdown",
      "source": [
        "Mini-batch allows for a higher quality and stablegradient, it can process a lot more inputs per second which allows for faster learning."
      ],
      "metadata": {
        "id": "yiicpLxf9nvm"
      }
    },
    {
      "cell_type": "markdown",
      "source": [
        "## **10.Polynomial of degree 2**"
      ],
      "metadata": {
        "id": "CQeIZW0N-MDr"
      }
    },
    {
      "cell_type": "markdown",
      "source": [
        "### I. Use sklearn's Polynomial features to degree = 2 on our training and test set\n"
      ],
      "metadata": {
        "id": "vFWzbW-r-oTZ"
      }
    },
    {
      "cell_type": "code",
      "source": [
        "from sklearn.preprocessing import PolynomialFeatures\n",
        "\n",
        "poly_features = PolynomialFeatures(degree=2)\n",
        "X_poly_train = poly_features.fit_transform(X_train_scaled)\n",
        "X_poly_test = poly_features.fit_transform(X_test_scaled)"
      ],
      "metadata": {
        "id": "KFUAXClF-sOq"
      },
      "execution_count": 723,
      "outputs": []
    },
    {
      "cell_type": "markdown",
      "source": [
        "-----"
      ],
      "metadata": {
        "id": "qFbpzzYScUj9"
      }
    },
    {
      "cell_type": "markdown",
      "source": [
        "### II. Use linearRegression on the new polynomial features"
      ],
      "metadata": {
        "id": "PgCQmfak_eMf"
      }
    },
    {
      "cell_type": "code",
      "source": [
        "lr2 = LinearRegression()\n",
        "lr2.fit(X_poly_train, y_train)\n",
        "\n",
        "print(lr2.intercept_)\n",
        "print(lr2.coef_)"
      ],
      "metadata": {
        "colab": {
          "base_uri": "https://localhost:8080/"
        },
        "id": "a4Y-FCmK_vTz",
        "outputId": "cacfcc65-b26b-44e8-eea3-4bf614d90ae2"
      },
      "execution_count": 724,
      "outputs": [
        {
          "output_type": "stream",
          "name": "stdout",
          "text": [
            "[499.68658573]\n",
            "[[ 0.00000000e+00  2.59548427e+01  3.67216721e+01  1.62102271e-01\n",
            "   6.02168680e+01 -8.56590069e-01 -1.56166087e-01 -6.78266356e-02\n",
            "   1.52385983e-01  3.69981677e-01 -2.06815454e-01  3.94911158e-02\n",
            "   5.53534986e-01 -3.47157889e-01 -4.14356771e-02]]\n"
          ]
        }
      ]
    },
    {
      "cell_type": "markdown",
      "source": [
        "-----"
      ],
      "metadata": {
        "id": "FsQBUEQkcTo2"
      }
    },
    {
      "cell_type": "markdown",
      "source": [
        "### III. Predict for test set"
      ],
      "metadata": {
        "id": "V7jYDK9G_iqj"
      }
    },
    {
      "cell_type": "code",
      "source": [
        "y_pred5 = lr2.predict(X_poly_test)"
      ],
      "metadata": {
        "id": "pEkyRVbOCaY4"
      },
      "execution_count": 725,
      "outputs": []
    },
    {
      "cell_type": "markdown",
      "source": [
        "----"
      ],
      "metadata": {
        "id": "2HCZFeLxcS2R"
      }
    },
    {
      "cell_type": "markdown",
      "source": [
        "### IV. Generate a scatter plot that shows the Y test on the x-axis and y predicted in the y-axis\n"
      ],
      "metadata": {
        "id": "7fh4Sex7_loB"
      }
    },
    {
      "cell_type": "code",
      "source": [
        "fig, ax = plt.subplots()\n",
        "ax.scatter(y_test,  y_pred5)\n",
        "\n",
        "ax.set_xlabel('Y test')\n",
        "ax.set_ylabel('Y predict (Polynomial)')\n",
        "\n",
        "plt.show()"
      ],
      "metadata": {
        "colab": {
          "base_uri": "https://localhost:8080/",
          "height": 279
        },
        "id": "NbPe4lX2DFll",
        "outputId": "882262e4-97d5-40f9-c1df-8737b7450774"
      },
      "execution_count": 726,
      "outputs": [
        {
          "output_type": "display_data",
          "data": {
            "text/plain": [
              "<Figure size 432x288 with 1 Axes>"
            ],
            "image/png": "[encoded data removed]"
          },
          "metadata": {
            "needs_background": "light"
          }
        }
      ]
    },
    {
      "cell_type": "markdown",
      "source": [
        "----"
      ],
      "metadata": {
        "id": "07aGCpgKcRzc"
      }
    },
    {
      "cell_type": "markdown",
      "source": [
        "### V. Use sklearn's metrics to print the value of MAE, MSE, RMSE, and R^2  (see documentation of sklearn's metrics)"
      ],
      "metadata": {
        "id": "CfgyyiQe_otM"
      }
    },
    {
      "cell_type": "code",
      "source": [
        "mae5  = metrics.mean_absolute_error(y_test, y_pred5)\n",
        "mse5  = metrics.mean_squared_error(y_test, y_pred5)\n",
        "rmse5 = np.sqrt(mse5)\n",
        "r2_5   = metrics.r2_score(y_test, y_pred5)\n",
        "\n",
        "print(\"Results of sklearn.metrics:\")\n",
        "print(\"MAE:\",mae5)\n",
        "print(\"MSE:\", mse5)\n",
        "print(\"RMSE:\", rmse5)\n",
        "print(\"R-Squared:\", r2_5)"
      ],
      "metadata": {
        "colab": {
          "base_uri": "https://localhost:8080/"
        },
        "id": "FRBFLLbRETWp",
        "outputId": "18ff6fde-30fd-48de-95f8-f474a40f629d"
      },
      "execution_count": 727,
      "outputs": [
        {
          "output_type": "stream",
          "name": "stdout",
          "text": [
            "Results of sklearn.metrics:\n",
            "MAE: 9.440016672409259\n",
            "MSE: 137.6796224430069\n",
            "RMSE: 11.733696026530042\n",
            "R-Squared: 0.9810326871085456\n"
          ]
        }
      ]
    },
    {
      "cell_type": "markdown",
      "source": [
        "## **11.Polynomial of degree 3**"
      ],
      "metadata": {
        "id": "JF7TAyOME3D3"
      }
    },
    {
      "cell_type": "markdown",
      "source": [
        "### I. Use sklearn's Polynomial features to degree = 3 on our training and test set\n"
      ],
      "metadata": {
        "id": "rFk6ZYYtE3D4"
      }
    },
    {
      "cell_type": "code",
      "source": [
        "from sklearn.preprocessing import PolynomialFeatures\n",
        "\n",
        "poly_features3 = PolynomialFeatures(degree=3)\n",
        "X_poly_train3 = poly_features.fit_transform(X_train_scaled)\n",
        "X_poly_test3 = poly_features.fit_transform(X_test_scaled)"
      ],
      "metadata": {
        "id": "bENVCxZLE3D4"
      },
      "execution_count": 728,
      "outputs": []
    },
    {
      "cell_type": "markdown",
      "source": [
        "----"
      ],
      "metadata": {
        "id": "Vth643qmcQlT"
      }
    },
    {
      "cell_type": "markdown",
      "source": [
        "### II. Use linearRegression on the new polynomial features"
      ],
      "metadata": {
        "id": "Wr1_mnbdE3D4"
      }
    },
    {
      "cell_type": "code",
      "source": [
        "lr3 = LinearRegression()\n",
        "lr3.fit(X_poly_train3, y_train)\n",
        "\n",
        "print(lr3.intercept_)\n",
        "print(lr3.coef_)"
      ],
      "metadata": {
        "colab": {
          "base_uri": "https://localhost:8080/"
        },
        "outputId": "4c050f85-1877-44d4-8100-731c56580ea0",
        "id": "LQxIu9ptE3D4"
      },
      "execution_count": 729,
      "outputs": [
        {
          "output_type": "stream",
          "name": "stdout",
          "text": [
            "[499.68658573]\n",
            "[[ 0.00000000e+00  2.59548427e+01  3.67216721e+01  1.62102271e-01\n",
            "   6.02168680e+01 -8.56590069e-01 -1.56166087e-01 -6.78266356e-02\n",
            "   1.52385983e-01  3.69981677e-01 -2.06815454e-01  3.94911158e-02\n",
            "   5.53534986e-01 -3.47157889e-01 -4.14356771e-02]]\n"
          ]
        }
      ]
    },
    {
      "cell_type": "markdown",
      "source": [
        "-----"
      ],
      "metadata": {
        "id": "eyOlu7rHcPsU"
      }
    },
    {
      "cell_type": "markdown",
      "source": [
        "### III. Predict for test set"
      ],
      "metadata": {
        "id": "x4pAUyX5E3D4"
      }
    },
    {
      "cell_type": "code",
      "source": [
        "y_pred6 = lr3.predict(X_poly_test3)"
      ],
      "metadata": {
        "id": "Dx1XD7lKE3D4"
      },
      "execution_count": 730,
      "outputs": []
    },
    {
      "cell_type": "markdown",
      "source": [
        "-----"
      ],
      "metadata": {
        "id": "KZq3CSQVcOj1"
      }
    },
    {
      "cell_type": "markdown",
      "source": [
        "### IV. Generate a scatter plot that shows the Y test on the x-axis and y predicted in the y-axis\n"
      ],
      "metadata": {
        "id": "uWFn9A7IE3D5"
      }
    },
    {
      "cell_type": "code",
      "source": [
        "fig, ax = plt.subplots()\n",
        "ax.scatter(y_test,  y_pred6)\n",
        "\n",
        "ax.set_xlabel('Y test')\n",
        "ax.set_ylabel('Y predict (Polynomial 3)')\n",
        "\n",
        "plt.show()"
      ],
      "metadata": {
        "colab": {
          "base_uri": "https://localhost:8080/",
          "height": 279
        },
        "outputId": "ae5c9d26-9d4b-49ce-e749-3a1b3662e81c",
        "id": "KJ_lQ1WgE3D5"
      },
      "execution_count": 743,
      "outputs": [
        {
          "output_type": "display_data",
          "data": {
            "text/plain": [
              "<Figure size 432x288 with 1 Axes>"
            ],
            "image/png": "[encoded data removed]"
          },
          "metadata": {
            "needs_background": "light"
          }
        }
      ]
    },
    {
      "cell_type": "markdown",
      "source": [
        "-------"
      ],
      "metadata": {
        "id": "6SBWQgHlcNZG"
      }
    },
    {
      "cell_type": "markdown",
      "source": [
        "### V. Use sklearn's metrics to print the value of MAE, MSE, RMSE, and R^2  (see documentation of sklearn's metrics)"
      ],
      "metadata": {
        "id": "ViSIbIrGE3D5"
      }
    },
    {
      "cell_type": "code",
      "source": [
        "mae6  = metrics.mean_absolute_error(y_test, y_pred6)\n",
        "mse6  = metrics.mean_squared_error(y_test, y_pred6)\n",
        "rmse6 = np.sqrt(mse6)\n",
        "r2_6  = metrics.r2_score(y_test, y_pred6)\n",
        "\n",
        "print(\"Results of sklearn.metrics:\")\n",
        "print(\"MAE:\",mae6)\n",
        "print(\"MSE:\", mse6)\n",
        "print(\"RMSE:\", rmse6)\n",
        "print(\"R-Squared:\", r2_6)"
      ],
      "metadata": {
        "colab": {
          "base_uri": "https://localhost:8080/"
        },
        "outputId": "72dbb31f-d526-4c03-fbae-b77f588be929",
        "id": "Ac71y0w5E3D5"
      },
      "execution_count": 732,
      "outputs": [
        {
          "output_type": "stream",
          "name": "stdout",
          "text": [
            "Results of sklearn.metrics:\n",
            "MAE: 9.440016672409259\n",
            "MSE: 137.6796224430069\n",
            "RMSE: 11.733696026530042\n",
            "R-Squared: 0.9810326871085456\n"
          ]
        }
      ]
    },
    {
      "cell_type": "markdown",
      "source": [
        "## **12. Learning Curve**\n"
      ],
      "metadata": {
        "id": "FifuaEUEG_up"
      }
    },
    {
      "cell_type": "markdown",
      "source": [
        "### I. Generate learning curve with linearRegression\n"
      ],
      "metadata": {
        "id": "X71TepeoHFTr"
      }
    },
    {
      "cell_type": "code",
      "source": [
        "train_errors = []\n",
        "val_errors = []\n",
        "lr4 = LinearRegression()\n",
        "\n",
        "\n",
        "for m in range(1, len(X_train_scaled)):\n",
        "  lr4.fit(X_train_scaled[:m], y_train[:m])\n",
        "\n",
        "  y_train_pred = lr4.predict(X_train_scaled[:m])\n",
        "  y_test_predict = lr4.predict(X_test_scaled)\n",
        "\n",
        "  train_errors.append(metrics.mean_squared_error(y_train[:m], y_train_pred))\n",
        "  val_errors.append(metrics.mean_squared_error(y_test, y_test_predict))\n",
        "\n",
        "\n",
        "plt.plot(np.sqrt(train_errors), 'r-+', linewidth=2, label='Train')\n",
        "plt.plot(np.sqrt(val_errors), 'b-', linewidth=3, label='Test')\n",
        "plt.show()"
      ],
      "metadata": {
        "colab": {
          "base_uri": "https://localhost:8080/",
          "height": 265
        },
        "id": "e56o3876HoZ4",
        "outputId": "942f8eeb-92ca-430b-df44-1accf8135910"
      },
      "execution_count": 733,
      "outputs": [
        {
          "output_type": "display_data",
          "data": {
            "text/plain": [
              "<Figure size 432x288 with 1 Axes>"
            ],
            "image/png": "[encoded data removed]"
          },
          "metadata": {
            "needs_background": "light"
          }
        }
      ]
    },
    {
      "cell_type": "markdown",
      "source": [
        "-----"
      ],
      "metadata": {
        "id": "1mdPf_VjcMM3"
      }
    },
    {
      "cell_type": "markdown",
      "source": [
        "### II. Generate learning curve with polynomial regression with degree  = 5\n"
      ],
      "metadata": {
        "id": "lL9F-HfVHFXs"
      }
    },
    {
      "cell_type": "code",
      "source": [
        "from sklearn.pipeline import Pipeline\n",
        "\n",
        "poly_reg = Pipeline([('poly_features', PolynomialFeatures(degree=5)),\n",
        "                     ('lin_reg', LinearRegression())])\n",
        "\n",
        "train_errors2 = []\n",
        "val_errors2 = []\n",
        "\n",
        "\n",
        "for m in range(1, len(X_train_scaled)):\n",
        "  poly_reg.fit(X_train_scaled[:m], y_train[:m])\n",
        "\n",
        "  y_train_pred2 = poly_reg.predict(X_train_scaled[:m])\n",
        "  y_test_predict2 = poly_reg.predict(X_test_scaled)\n",
        "\n",
        "  train_errors2.append(metrics.mean_squared_error(y_train[:m], y_train_pred2))\n",
        "  val_errors2.append(metrics.mean_squared_error(y_test, y_test_predict2))\n",
        "\n",
        "\n",
        "plt.plot(np.sqrt(train_errors2), 'r-+', linewidth=2, label='Train')\n",
        "plt.plot(np.sqrt(val_errors2), 'b-', linewidth=3, label='Test')\n",
        "plt.show()\n"
      ],
      "metadata": {
        "colab": {
          "base_uri": "https://localhost:8080/",
          "height": 265
        },
        "id": "-TWGEkbqMFZ3",
        "outputId": "24cd5bd2-de2a-4aed-884a-e94cefbf1365"
      },
      "execution_count": 734,
      "outputs": [
        {
          "output_type": "display_data",
          "data": {
            "text/plain": [
              "<Figure size 432x288 with 1 Axes>"
            ],
            "image/png": "[encoded data removed]"
          },
          "metadata": {
            "needs_background": "light"
          }
        }
      ]
    },
    {
      "cell_type": "markdown",
      "source": [
        "-----"
      ],
      "metadata": {
        "id": "3jfVRle1cJ9X"
      }
    },
    {
      "cell_type": "markdown",
      "source": [
        "### III. Interpret the result"
      ],
      "metadata": {
        "id": "O4OrKQMPHFbl"
      }
    },
    {
      "cell_type": "markdown",
      "source": [
        "In the Linear Regression Learning Curve, the model is overfit. Both curves reach a plateau and almost touching.\n",
        "\n",
        "In the Polynomial Feature Learning Curve is underfit. The model has relatively low error on training examples, but high error on unseen data."
      ],
      "metadata": {
        "id": "jV6OnvvoO-Lb"
      }
    },
    {
      "cell_type": "markdown",
      "source": [
        "## **13. Regularization**"
      ],
      "metadata": {
        "id": "1svwMJ44P5xi"
      }
    },
    {
      "cell_type": "markdown",
      "source": [
        "### I. Explain the purpose of regularization"
      ],
      "metadata": {
        "id": "BRzXXcSYQEhS"
      }
    },
    {
      "cell_type": "markdown",
      "source": [
        "The purpose of regularization is to reduce the error by fitting a function and avoid overfitting.\n"
      ],
      "metadata": {
        "id": "hzi6fmCRQMZ_"
      }
    },
    {
      "cell_type": "markdown",
      "source": [
        "## **14. Ridge Regression**\n"
      ],
      "metadata": {
        "id": "oap7zjNHRHBo"
      }
    },
    {
      "cell_type": "markdown",
      "source": [
        "### I. Use sklearn's Ridge to train the data set (use the polynomial degree 3 data set)\n"
      ],
      "metadata": {
        "id": "PKkO-hW9Rjn7"
      }
    },
    {
      "cell_type": "code",
      "source": [
        "from sklearn.linear_model import Ridge\n",
        "\n",
        "ridge_reg = Ridge(alpha=1, solver='cholesky')\n",
        "ridge_reg.fit(X_poly_train3, y_train)"
      ],
      "metadata": {
        "colab": {
          "base_uri": "https://localhost:8080/"
        },
        "id": "AkdSfNaGRpvV",
        "outputId": "2f3689d0-c600-45b2-9c4e-05060b5bb48e"
      },
      "execution_count": 735,
      "outputs": [
        {
          "output_type": "execute_result",
          "data": {
            "text/plain": [
              "Ridge(alpha=1, solver='cholesky')"
            ]
          },
          "metadata": {},
          "execution_count": 735
        }
      ]
    },
    {
      "cell_type": "markdown",
      "source": [
        "-----"
      ],
      "metadata": {
        "id": "HbGx5PuacITU"
      }
    },
    {
      "cell_type": "markdown",
      "source": [
        "### II. Predict for test set\n"
      ],
      "metadata": {
        "id": "HLM_QWyXSRny"
      }
    },
    {
      "cell_type": "code",
      "source": [
        "y_pred7 = ridge_reg.predict(X_poly_test3)"
      ],
      "metadata": {
        "id": "6syGdlXhSVKA"
      },
      "execution_count": 736,
      "outputs": []
    },
    {
      "cell_type": "markdown",
      "source": [
        "-----"
      ],
      "metadata": {
        "id": "OYrA0ouzcHf_"
      }
    },
    {
      "cell_type": "markdown",
      "source": [
        "### III. Generate a scatter plot that shows the Y test on the x-axis and y predicted in the y-axis\n"
      ],
      "metadata": {
        "id": "1Q6rmzUKSa0Z"
      }
    },
    {
      "cell_type": "code",
      "source": [
        "fig, ax = plt.subplots()\n",
        "ax.scatter(y_test,  y_pred7)\n",
        "\n",
        "ax.set_xlabel('Y test')\n",
        "ax.set_ylabel('Y predict (Ridge)')\n",
        "\n",
        "plt.show()"
      ],
      "metadata": {
        "colab": {
          "base_uri": "https://localhost:8080/",
          "height": 279
        },
        "id": "HC_977WWSlpk",
        "outputId": "e509c869-1c6b-42e2-abe2-20f04dbb9670"
      },
      "execution_count": 744,
      "outputs": [
        {
          "output_type": "display_data",
          "data": {
            "text/plain": [
              "<Figure size 432x288 with 1 Axes>"
            ],
            "image/png": "[encoded data removed]"
          },
          "metadata": {
            "needs_background": "light"
          }
        }
      ]
    },
    {
      "cell_type": "markdown",
      "source": [
        "----"
      ],
      "metadata": {
        "id": "Nj1IWw1BcGZw"
      }
    },
    {
      "cell_type": "markdown",
      "source": [
        "### IV. Use sklearn's metrics to print the value of MAE, MSE, RMSE, and R^2  (see documentation of sklearn's metrics)\n"
      ],
      "metadata": {
        "id": "kEz3rJsXS0zI"
      }
    },
    {
      "cell_type": "code",
      "source": [
        "mae7  = metrics.mean_absolute_error(y_test, y_pred7)\n",
        "mse7  = metrics.mean_squared_error(y_test, y_pred7)\n",
        "rmse7 = np.sqrt(mse7)\n",
        "r2_7  = metrics.r2_score(y_test, y_pred7)\n",
        "\n",
        "print(\"Results of sklearn.metrics:\")\n",
        "print(\"MAE:\",mae7)\n",
        "print(\"MSE:\", mse7)\n",
        "print(\"RMSE:\", rmse7)\n",
        "print(\"R-Squared:\", r2_7)"
      ],
      "metadata": {
        "colab": {
          "base_uri": "https://localhost:8080/"
        },
        "id": "BRVan1GTS5zb",
        "outputId": "e2fe7175-90c4-4565-9c4a-4232e4d30bb0"
      },
      "execution_count": 738,
      "outputs": [
        {
          "output_type": "stream",
          "name": "stdout",
          "text": [
            "Results of sklearn.metrics:\n",
            "MAE: 9.518664689381286\n",
            "MSE: 140.11522487878702\n",
            "RMSE: 11.837027704571238\n",
            "R-Squared: 0.980697148467032\n"
          ]
        }
      ]
    },
    {
      "cell_type": "markdown",
      "source": [
        "## **14. Ridge Regression**"
      ],
      "metadata": {
        "id": "UEywRDX0TWRi"
      }
    },
    {
      "cell_type": "markdown",
      "source": [
        "### I. Use sklearn's SGDRegressor for Ridge Regression\n"
      ],
      "metadata": {
        "id": "eJLMa5IDTcTl"
      }
    },
    {
      "cell_type": "code",
      "source": [
        "sgd_reg2 = SGDRegressor(penalty='l2')\n",
        "sgd_reg2.fit(X_poly_train3, y_train)"
      ],
      "metadata": {
        "colab": {
          "base_uri": "https://localhost:8080/"
        },
        "id": "DiyzoFkeT1t5",
        "outputId": "d13d8b34-b7cc-4899-98df-e1aa4bd3c9d2"
      },
      "execution_count": 739,
      "outputs": [
        {
          "output_type": "stream",
          "name": "stderr",
          "text": [
            "/usr/local/lib/python3.7/dist-packages/sklearn/utils/validation.py:993: DataConversionWarning: A column-vector y was passed when a 1d array was expected. Please change the shape of y to (n_samples, ), for example using ravel().\n",
            "  y = column_or_1d(y, warn=True)\n"
          ]
        },
        {
          "output_type": "execute_result",
          "data": {
            "text/plain": [
              "SGDRegressor()"
            ]
          },
          "metadata": {},
          "execution_count": 739
        }
      ]
    },
    {
      "cell_type": "markdown",
      "source": [
        "-----"
      ],
      "metadata": {
        "id": "Su-Vk3gZcFCs"
      }
    },
    {
      "cell_type": "markdown",
      "source": [
        "### II. Predict for test set\n"
      ],
      "metadata": {
        "id": "Focv9qQbTdGy"
      }
    },
    {
      "cell_type": "code",
      "source": [
        "y_pred8 = sgd_reg2.predict(X_poly_test3)"
      ],
      "metadata": {
        "id": "6r_pVuuhUT8w"
      },
      "execution_count": 747,
      "outputs": []
    },
    {
      "cell_type": "markdown",
      "source": [
        "-----"
      ],
      "metadata": {
        "id": "wwbpMzzWcEXr"
      }
    },
    {
      "cell_type": "markdown",
      "source": [
        "### III. Generate a scatter plot that shows the Y test on the x-axis and y predicted in the y-axis\n"
      ],
      "metadata": {
        "id": "pISC2SxoTdBl"
      }
    },
    {
      "cell_type": "code",
      "source": [
        "fig, ax = plt.subplots()\n",
        "ax.scatter(y_test,  y_pred8)\n",
        "\n",
        "ax.set_xlabel('Y test')\n",
        "ax.set_ylabel('Y predict (Ridge Regression)')\n",
        "\n",
        "plt.show()"
      ],
      "metadata": {
        "colab": {
          "base_uri": "https://localhost:8080/",
          "height": 279
        },
        "id": "aGZTGNmQUX6u",
        "outputId": "369be5e4-b64c-46c5-f6db-dcc95e108432"
      },
      "execution_count": 748,
      "outputs": [
        {
          "output_type": "display_data",
          "data": {
            "text/plain": [
              "<Figure size 432x288 with 1 Axes>"
            ],
            "image/png": "[encoded data removed]"
          },
          "metadata": {
            "needs_background": "light"
          }
        }
      ]
    },
    {
      "cell_type": "markdown",
      "source": [
        "-----"
      ],
      "metadata": {
        "id": "YmEmGZqIcDVT"
      }
    },
    {
      "cell_type": "markdown",
      "source": [
        "### IV. Use sklearn's metrics to print the value of MAE, MSE, RMSE, and R^2  (see documentation of sklearn's metrics)\n"
      ],
      "metadata": {
        "id": "7kqORm83TdN1"
      }
    },
    {
      "cell_type": "code",
      "source": [
        "mae8  = metrics.mean_absolute_error(y_test, y_pred8)\n",
        "mse8  = metrics.mean_squared_error(y_test, y_pred8)\n",
        "rmse8 = np.sqrt(mse8)\n",
        "r2_8  = metrics.r2_score(y_test, y_pred8)\n",
        "\n",
        "print(\"Results of sklearn.metrics:\")\n",
        "print(\"MAE:\",mae8)\n",
        "print(\"MSE:\", mse8)\n",
        "print(\"RMSE:\", rmse8)\n",
        "print(\"R-Squared:\", r2_8)"
      ],
      "metadata": {
        "colab": {
          "base_uri": "https://localhost:8080/"
        },
        "id": "xebc-YpkU7an",
        "outputId": "4a7de6df-7556-4725-b129-c997bf6f7d1b"
      },
      "execution_count": 749,
      "outputs": [
        {
          "output_type": "stream",
          "name": "stdout",
          "text": [
            "Results of sklearn.metrics:\n",
            "MAE: 9.46352107282144\n",
            "MSE: 138.47566258730168\n",
            "RMSE: 11.767568252927267\n",
            "R-Squared: 0.9809230213335887\n"
          ]
        }
      ]
    },
    {
      "cell_type": "markdown",
      "source": [
        "## **16. Lasso Regression**"
      ],
      "metadata": {
        "id": "8qDcP-dLVG1G"
      }
    },
    {
      "cell_type": "markdown",
      "source": [
        "### I. Use sklearn's Lasso\n"
      ],
      "metadata": {
        "id": "Hz2nnTaMVMEv"
      }
    },
    {
      "cell_type": "code",
      "source": [
        "from sklearn.linear_model import Lasso\n",
        "\n",
        "lasso_reg = Lasso(alpha=0.1)\n",
        "lasso_reg.fit(X_poly_train3, y_train)"
      ],
      "metadata": {
        "colab": {
          "base_uri": "https://localhost:8080/"
        },
        "id": "z-wYh5kpVXgS",
        "outputId": "789476c6-cdaf-46ea-e1d3-f6e13b77f843"
      },
      "execution_count": 751,
      "outputs": [
        {
          "output_type": "execute_result",
          "data": {
            "text/plain": [
              "Lasso(alpha=0.1)"
            ]
          },
          "metadata": {},
          "execution_count": 751
        }
      ]
    },
    {
      "cell_type": "markdown",
      "source": [
        "-----"
      ],
      "metadata": {
        "id": "OjeapSbocCLD"
      }
    },
    {
      "cell_type": "markdown",
      "source": [
        "### II. Predict for test set\n"
      ],
      "metadata": {
        "id": "wJomZIcKVrry"
      }
    },
    {
      "cell_type": "code",
      "source": [
        "lasso_pred = lasso_reg.predict(X_poly_test3)"
      ],
      "metadata": {
        "id": "8SqJUoSfV5yx"
      },
      "execution_count": 752,
      "outputs": []
    },
    {
      "cell_type": "markdown",
      "source": [
        "-----"
      ],
      "metadata": {
        "id": "UjuSnMR9cBEz"
      }
    },
    {
      "cell_type": "markdown",
      "source": [
        "### III. Generate a scatter plot that shows the Y test on the x-axis and y predicted in the y-axis\n"
      ],
      "metadata": {
        "id": "pm6aQCQjVvDw"
      }
    },
    {
      "cell_type": "code",
      "source": [
        "fig, ax = plt.subplots()\n",
        "ax.scatter(y_test,  lasso_pred)\n",
        "\n",
        "ax.set_xlabel('Y test')\n",
        "ax.set_ylabel('Y predict (Lasso)')\n",
        "\n",
        "plt.show()"
      ],
      "metadata": {
        "colab": {
          "base_uri": "https://localhost:8080/",
          "height": 279
        },
        "id": "gvPYRhS-WGJa",
        "outputId": "dcaf0ea3-ebfe-4617-b57c-5da8dcf0e26c"
      },
      "execution_count": 753,
      "outputs": [
        {
          "output_type": "display_data",
          "data": {
            "text/plain": [
              "<Figure size 432x288 with 1 Axes>"
            ],
            "image/png": "[encoded data removed]"
          },
          "metadata": {
            "needs_background": "light"
          }
        }
      ]
    },
    {
      "cell_type": "markdown",
      "source": [
        "-----"
      ],
      "metadata": {
        "id": "ko7irDK6cACH"
      }
    },
    {
      "cell_type": "markdown",
      "source": [
        "### IV. Use sklearn's metrics to print the value of MAE, MSE, RMSE, and R^2  (see documentation of sklearn's metrics)\n"
      ],
      "metadata": {
        "id": "hS5P-mADVyXZ"
      }
    },
    {
      "cell_type": "code",
      "source": [
        "mae9  = metrics.mean_absolute_error(y_test, lasso_pred)\n",
        "mse9  = metrics.mean_squared_error(y_test, lasso_pred)\n",
        "rmse9 = np.sqrt(mse9)\n",
        "r2_9  = metrics.r2_score(y_test, lasso_pred)\n",
        "\n",
        "print(\"Results of sklearn.metrics:\")\n",
        "print(\"MAE:\",mae9)\n",
        "print(\"MSE:\", mse9)\n",
        "print(\"RMSE:\", rmse9)\n",
        "print(\"R-Squared:\", r2_9)"
      ],
      "metadata": {
        "colab": {
          "base_uri": "https://localhost:8080/"
        },
        "id": "8cAo_-wqWN9J",
        "outputId": "000c2d07-d578-48bb-b195-ca6faaa7514d"
      },
      "execution_count": 755,
      "outputs": [
        {
          "output_type": "stream",
          "name": "stdout",
          "text": [
            "Results of sklearn.metrics:\n",
            "MAE: 9.502028791362806\n",
            "MSE: 139.2015737462109\n",
            "RMSE: 11.798371656555446\n",
            "R-Squared: 0.9808230168170297\n"
          ]
        }
      ]
    },
    {
      "cell_type": "markdown",
      "source": [
        "----"
      ],
      "metadata": {
        "id": "QV2lTYR2b-_L"
      }
    },
    {
      "cell_type": "markdown",
      "source": [
        "### V. How Lasso perform the regularization and how does that affect the thetas?\n"
      ],
      "metadata": {
        "id": "xDsPU0cJV1n0"
      }
    },
    {
      "cell_type": "markdown",
      "source": [
        "The Lasso adds penalty equal to the absolute value of the magnetude of coefficient. It shrinks the weight of the least important features, which is how it affects the thetas."
      ],
      "metadata": {
        "id": "-B75CpmRWhl6"
      }
    },
    {
      "cell_type": "markdown",
      "source": [
        "## **17. Elastic Net**"
      ],
      "metadata": {
        "id": "UGUz4ONsX43n"
      }
    },
    {
      "cell_type": "markdown",
      "source": [
        "### I. Use sklearn's ElasticNet\n"
      ],
      "metadata": {
        "id": "m1oTIXJ1YAV-"
      }
    },
    {
      "cell_type": "code",
      "source": [
        "from sklearn.linear_model import ElasticNet\n",
        "\n",
        "elastic_net = ElasticNet(alpha=0.1, l1_ratio=0.5)\n",
        "elastic_net.fit(X_poly_train3, y_train)"
      ],
      "metadata": {
        "colab": {
          "base_uri": "https://localhost:8080/"
        },
        "id": "p4XHzK95YepU",
        "outputId": "acc11c70-59db-4069-9203-da6b3b55f1cc"
      },
      "execution_count": 756,
      "outputs": [
        {
          "output_type": "execute_result",
          "data": {
            "text/plain": [
              "ElasticNet(alpha=0.1)"
            ]
          },
          "metadata": {},
          "execution_count": 756
        }
      ]
    },
    {
      "cell_type": "markdown",
      "source": [
        "-----"
      ],
      "metadata": {
        "id": "8yp1t70yb8J7"
      }
    },
    {
      "cell_type": "markdown",
      "source": [
        "### II. Predict for test set\n"
      ],
      "metadata": {
        "id": "078GQgHcYEu9"
      }
    },
    {
      "cell_type": "code",
      "source": [
        "elastic_pred = elastic_net.predict(X_poly_test3)"
      ],
      "metadata": {
        "id": "WmY9izsAY1rR"
      },
      "execution_count": 757,
      "outputs": []
    },
    {
      "cell_type": "markdown",
      "source": [
        "-----"
      ],
      "metadata": {
        "id": "2BpZo7-hb5oi"
      }
    },
    {
      "cell_type": "markdown",
      "source": [
        "### III. Generate a scatter plot that shows the Y test in x axis and y predicted in y axis\n"
      ],
      "metadata": {
        "id": "lX0AjbvsYHqe"
      }
    },
    {
      "cell_type": "code",
      "source": [
        "fig, ax = plt.subplots()\n",
        "ax.scatter(y_test,  elastic_pred)\n",
        "\n",
        "ax.set_xlabel('Y test')\n",
        "ax.set_ylabel('Y predict (Elastic)')\n",
        "\n",
        "plt.show()"
      ],
      "metadata": {
        "colab": {
          "base_uri": "https://localhost:8080/",
          "height": 279
        },
        "id": "vyQhZop5Y9lI",
        "outputId": "2e032e2b-8ece-407f-d818-f2feab199189"
      },
      "execution_count": 759,
      "outputs": [
        {
          "output_type": "display_data",
          "data": {
            "text/plain": [
              "<Figure size 432x288 with 1 Axes>"
            ],
            "image/png": "[encoded data removed]"
          },
          "metadata": {
            "needs_background": "light"
          }
        }
      ]
    },
    {
      "cell_type": "markdown",
      "source": [
        "-----"
      ],
      "metadata": {
        "id": "a2o9H-93b4aX"
      }
    },
    {
      "cell_type": "markdown",
      "source": [
        "### IV. Use sklearn's metrics to print the value of MAE, MSE, RMSE and R^2  (see documentation of sklearn's metrics)\n"
      ],
      "metadata": {
        "id": "JnctG6quYM4u"
      }
    },
    {
      "cell_type": "code",
      "source": [
        "mae0  = metrics.mean_absolute_error(y_test, elastic_pred)\n",
        "mse0  = metrics.mean_squared_error(y_test, elastic_pred)\n",
        "rmse0 = np.sqrt(mse0)\n",
        "r2_0  = metrics.r2_score(y_test, elastic_pred)\n",
        "\n",
        "print(\"Results of sklearn.metrics:\")\n",
        "print(\"MAE:\",mae0)\n",
        "print(\"MSE:\", mse0)\n",
        "print(\"RMSE:\", rmse0)\n",
        "print(\"R-Squared:\", r2_0)"
      ],
      "metadata": {
        "colab": {
          "base_uri": "https://localhost:8080/"
        },
        "id": "kJz5qfdvZETf",
        "outputId": "57428ebb-4bff-4872-8cdb-18d40542c1bf"
      },
      "execution_count": 760,
      "outputs": [
        {
          "output_type": "stream",
          "name": "stdout",
          "text": [
            "Results of sklearn.metrics:\n",
            "MAE: 11.173076285299413\n",
            "MSE: 193.64934999462295\n",
            "RMSE: 13.915794982487451\n",
            "R-Squared: 0.9733220664946606\n"
          ]
        }
      ]
    },
    {
      "cell_type": "markdown",
      "source": [
        "-----"
      ],
      "metadata": {
        "id": "XOtkI6Rvb28U"
      }
    },
    {
      "cell_type": "markdown",
      "source": [
        "### V. How ElasticNet different compared to Lasso and RIDGE perform the regularization and how does that affect the thetas?\n"
      ],
      "metadata": {
        "id": "BPM112wCYQUO"
      }
    },
    {
      "cell_type": "markdown",
      "source": [
        "Elastic net performs regularization by combining characteristics of both lasso and ridge. If a feature of a group has a strong relationship with the dependent variable, it will include the group in the model tuning since ommitting other variables may result in losing information. "
      ],
      "metadata": {
        "id": "WvX1YpigZkaX"
      }
    }
  ]
}